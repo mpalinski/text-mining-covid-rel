{
 "cells": [
  {
   "cell_type": "markdown",
   "metadata": {},
   "source": [
    "# Preprocessing "
   ]
  },
  {
   "cell_type": "code",
   "execution_count": 3,
   "metadata": {},
   "outputs": [],
   "source": [
    "# import docx\n",
    "import pandas as pd\n",
    "import glob\n",
    "import os\n",
    "from pathlib import Path\n",
    "import re\n",
    "import pickle\n",
    "import string\n",
    "import numpy as np"
   ]
  },
  {
   "cell_type": "code",
   "execution_count": 5,
   "metadata": {},
   "outputs": [],
   "source": [
    "from striprtf.striprtf import rtf_to_text"
   ]
  },
  {
   "cell_type": "markdown",
   "metadata": {},
   "source": [
    "## Loading files into the df and extracting the names and year"
   ]
  },
  {
   "cell_type": "code",
   "execution_count": 6,
   "metadata": {},
   "outputs": [],
   "source": [
    "# otwieranie wszystkich plikow w folderze i zapisanie ich do df\n",
    "\n",
    "dir_path = \"../data/sec_DEU/\"\n",
    "\n",
    "def get_docx_files(dir_path):\n",
    "    docx_files = []\n",
    "    \n",
    "    for root, _, files in os.walk(dir_path):\n",
    "        for f in files:\n",
    "            if f.endswith('.rtf'):\n",
    "                docx_files.append(os.path.join(root, f))\n",
    "    \n",
    "    return docx_files\n",
    "\n",
    "docx_files = get_docx_files(dir_path)\n",
    "\n",
    "data = []\n",
    "\n",
    "# Iterate over all files in the directory\n",
    "for filename in docx_files:\n",
    "    if filename.endswith(\".rtf\"):\n",
    "        with open(filename, 'rb') as file:\n",
    "            rtf_content = file.read().decode('utf-8')  # Decode binary content to string\n",
    "        # Parse the RTF content using pyth\n",
    "            rtf_text = rtf_to_text(rtf_content)       \n",
    "            data.append([filename[:-5],rtf_text])\n",
    "\n",
    "# Create a pandas DataFrame from the extracted data\n",
    "df = pd.DataFrame(data, columns=['f_name','raw_txt'])"
   ]
  },
  {
   "cell_type": "code",
   "execution_count": 7,
   "metadata": {},
   "outputs": [
    {
     "data": {
      "text/plain": [
       "36"
      ]
     },
     "execution_count": 7,
     "metadata": {},
     "output_type": "execute_result"
    }
   ],
   "source": [
    "len(df[df['raw_txt'].str.contains('Text of Article')])"
   ]
  },
  {
   "cell_type": "code",
   "execution_count": 13,
   "metadata": {},
   "outputs": [
    {
     "data": {
      "text/html": [
       "<div>\n",
       "<style scoped>\n",
       "    .dataframe tbody tr th:only-of-type {\n",
       "        vertical-align: middle;\n",
       "    }\n",
       "\n",
       "    .dataframe tbody tr th {\n",
       "        vertical-align: top;\n",
       "    }\n",
       "\n",
       "    .dataframe thead th {\n",
       "        text-align: right;\n",
       "    }\n",
       "</style>\n",
       "<table border=\"1\" class=\"dataframe\">\n",
       "  <thead>\n",
       "    <tr style=\"text-align: right;\">\n",
       "      <th></th>\n",
       "      <th>f_name</th>\n",
       "      <th>raw_txt</th>\n",
       "    </tr>\n",
       "  </thead>\n",
       "  <tbody>\n",
       "    <tr>\n",
       "      <th>34</th>\n",
       "      <td>../data/sec_DEU/SPIEGEL ONLINE/Factiva-SPIEGEL...</td>\n",
       "      <td>\\n\\n\\nBrandenburger Regierung startet freiwil...</td>\n",
       "    </tr>\n",
       "    <tr>\n",
       "      <th>35</th>\n",
       "      <td>../data/sec_DEU/SPIEGEL ONLINE/Factiva-SPIEGEL...</td>\n",
       "      <td>\\n\\n\\nTitel, Saporischschja, Impftote, Adichi...</td>\n",
       "    </tr>\n",
       "    <tr>\n",
       "      <th>72</th>\n",
       "      <td>../data/sec_DEU/SPIEGEL/Factiva-SPIEGEL-01-202...</td>\n",
       "      <td>\\n\\n\\nCoronakrise\\n»Ich habe Angst vor den Me...</td>\n",
       "    </tr>\n",
       "  </tbody>\n",
       "</table>\n",
       "</div>"
      ],
      "text/plain": [
       "                                               f_name  \\\n",
       "34  ../data/sec_DEU/SPIEGEL ONLINE/Factiva-SPIEGEL...   \n",
       "35  ../data/sec_DEU/SPIEGEL ONLINE/Factiva-SPIEGEL...   \n",
       "72  ../data/sec_DEU/SPIEGEL/Factiva-SPIEGEL-01-202...   \n",
       "\n",
       "                                              raw_txt  \n",
       "34   \\n\\n\\nBrandenburger Regierung startet freiwil...  \n",
       "35   \\n\\n\\nTitel, Saporischschja, Impftote, Adichi...  \n",
       "72   \\n\\n\\nCoronakrise\\n»Ich habe Angst vor den Me...  "
      ]
     },
     "execution_count": 13,
     "metadata": {},
     "output_type": "execute_result"
    }
   ],
   "source": [
    "df[df['f_name'].str.contains('SPIEGEL')]"
   ]
  },
  {
   "cell_type": "code",
   "execution_count": 29,
   "metadata": {},
   "outputs": [],
   "source": [
    "text=df.iloc[34]['raw_txt']\n",
    "# Regular expression pattern for identifying the start of each article\n",
    "pattern = r'\\n\\n\\n.+?\\n\\n.+? \\n\\d+ Wörter\\n\\d{1,2} \\w+ \\d{4}\\n.+\\n.+\\n\\d+ \\d+\\n.+\\n© \\d+ .+? GmbH. All rights reserved. \\n\\n'\n",
    "\n",
    "# Splitting the text using the pattern\n",
    "articles = re.split(pattern, text)"
   ]
  },
  {
   "cell_type": "code",
   "execution_count": 32,
   "metadata": {},
   "outputs": [],
   "source": [
    "df1=df[df['raw_txt'].str.contains('Text of Article')]"
   ]
  },
  {
   "cell_type": "code",
   "execution_count": 38,
   "metadata": {},
   "outputs": [],
   "source": [
    "# Split the 'text' column by '***' and stack the resulting Series into a new DataFrame\n",
    "split_df = df1['raw_txt'].str.split(r'\\*\\*\\*', expand=True).stack().reset_index(level=1, drop=True).reset_index()"
   ]
  },
  {
   "cell_type": "code",
   "execution_count": 48,
   "metadata": {},
   "outputs": [],
   "source": [
    "df2=split_df.dropna(subset=[0])"
   ]
  },
  {
   "cell_type": "code",
   "execution_count": 53,
   "metadata": {},
   "outputs": [],
   "source": [
    "df2=df2[df2[0]!='']"
   ]
  },
  {
   "cell_type": "code",
   "execution_count": 54,
   "metadata": {},
   "outputs": [
    {
     "data": {
      "text/html": [
       "<div>\n",
       "<style scoped>\n",
       "    .dataframe tbody tr th:only-of-type {\n",
       "        vertical-align: middle;\n",
       "    }\n",
       "\n",
       "    .dataframe tbody tr th {\n",
       "        vertical-align: top;\n",
       "    }\n",
       "\n",
       "    .dataframe thead th {\n",
       "        text-align: right;\n",
       "    }\n",
       "</style>\n",
       "<table border=\"1\" class=\"dataframe\">\n",
       "  <thead>\n",
       "    <tr style=\"text-align: right;\">\n",
       "      <th></th>\n",
       "      <th>index</th>\n",
       "      <th>0</th>\n",
       "    </tr>\n",
       "  </thead>\n",
       "  <tbody>\n",
       "    <tr>\n",
       "      <th>1</th>\n",
       "      <td>49</td>\n",
       "      <td>\\nDate of publication: 04/08/2021\\nLink: https...</td>\n",
       "    </tr>\n",
       "    <tr>\n",
       "      <th>2</th>\n",
       "      <td>49</td>\n",
       "      <td>\\nDate of publication: 04/08/2021\\nLink: https...</td>\n",
       "    </tr>\n",
       "    <tr>\n",
       "      <th>3</th>\n",
       "      <td>49</td>\n",
       "      <td>\\nDate of publication: 04/08/2021\\nLink: https...</td>\n",
       "    </tr>\n",
       "    <tr>\n",
       "      <th>4</th>\n",
       "      <td>49</td>\n",
       "      <td>\\nDate of publication: 07/08/2021\\nLink: https...</td>\n",
       "    </tr>\n",
       "    <tr>\n",
       "      <th>5</th>\n",
       "      <td>49</td>\n",
       "      <td>\\nDate of publication: 07/08/2021\\nLink: https...</td>\n",
       "    </tr>\n",
       "    <tr>\n",
       "      <th>...</th>\n",
       "      <td>...</td>\n",
       "      <td>...</td>\n",
       "    </tr>\n",
       "    <tr>\n",
       "      <th>1115</th>\n",
       "      <td>84</td>\n",
       "      <td>\\nDate of publication: 25/01/2021\\nLink: https...</td>\n",
       "    </tr>\n",
       "    <tr>\n",
       "      <th>1116</th>\n",
       "      <td>84</td>\n",
       "      <td>\\nDate of publication: 25/01/2021\\nLink: https...</td>\n",
       "    </tr>\n",
       "    <tr>\n",
       "      <th>1117</th>\n",
       "      <td>84</td>\n",
       "      <td>\\nDate of publication: 26/01/2021\\nLink: https...</td>\n",
       "    </tr>\n",
       "    <tr>\n",
       "      <th>1118</th>\n",
       "      <td>84</td>\n",
       "      <td>\\nDate of publication: 28/01/2021\\nLink: https...</td>\n",
       "    </tr>\n",
       "    <tr>\n",
       "      <th>1119</th>\n",
       "      <td>84</td>\n",
       "      <td>\\nDate of publication: 30/01/2021\\nLink: https...</td>\n",
       "    </tr>\n",
       "  </tbody>\n",
       "</table>\n",
       "<p>1084 rows × 2 columns</p>\n",
       "</div>"
      ],
      "text/plain": [
       "      index                                                  0\n",
       "1        49  \\nDate of publication: 04/08/2021\\nLink: https...\n",
       "2        49  \\nDate of publication: 04/08/2021\\nLink: https...\n",
       "3        49  \\nDate of publication: 04/08/2021\\nLink: https...\n",
       "4        49  \\nDate of publication: 07/08/2021\\nLink: https...\n",
       "5        49  \\nDate of publication: 07/08/2021\\nLink: https...\n",
       "...     ...                                                ...\n",
       "1115     84  \\nDate of publication: 25/01/2021\\nLink: https...\n",
       "1116     84  \\nDate of publication: 25/01/2021\\nLink: https...\n",
       "1117     84  \\nDate of publication: 26/01/2021\\nLink: https...\n",
       "1118     84  \\nDate of publication: 28/01/2021\\nLink: https...\n",
       "1119     84  \\nDate of publication: 30/01/2021\\nLink: https...\n",
       "\n",
       "[1084 rows x 2 columns]"
      ]
     },
     "execution_count": 54,
     "metadata": {},
     "output_type": "execute_result"
    }
   ],
   "source": [
    "df2"
   ]
  },
  {
   "cell_type": "code",
   "execution_count": 7,
   "metadata": {},
   "outputs": [],
   "source": [
    "# df.to_csv('deu_sec_raw.csv')"
   ]
  },
  {
   "cell_type": "code",
   "execution_count": 34,
   "metadata": {},
   "outputs": [],
   "source": [
    "# df['date']=df['f_name'].apply(lambda x: x.split('/')[5].split('_')[0])\n",
    "# df['date']=df['date'].str[:7]\n",
    "# df['year']=df['date'].str[:4]"
   ]
  },
  {
   "cell_type": "code",
   "execution_count": 60,
   "metadata": {},
   "outputs": [],
   "source": [
    "# df['date']=np.where(df['date']=='2020-Is','2020-01',df['date'])\n",
    "# df['date']=np.where(df['date']=='2021-Is','2021-01',df['date'])\n",
    "# df['date']=np.where(df['date']=='2022-Is','2022-01',df['date'])"
   ]
  },
  {
   "cell_type": "code",
   "execution_count": 61,
   "metadata": {},
   "outputs": [],
   "source": [
    "# df['date'] = df['date'].replace('0000-00-00', np.nan)\n",
    "# df['date'] = pd.to_datetime(df['date'], format='%Y-%m')"
   ]
  },
  {
   "cell_type": "code",
   "execution_count": 62,
   "metadata": {},
   "outputs": [],
   "source": [
    "# df['year'] = pd.to_datetime(df['year'], format='%Y', errors='coerce')"
   ]
  },
  {
   "cell_type": "code",
   "execution_count": 63,
   "metadata": {},
   "outputs": [],
   "source": [
    "# zmiana kolejności, aby źródło było po roku\n",
    "# df = df.iloc[:, [2,3,0,1]].copy()"
   ]
  },
  {
   "cell_type": "code",
   "execution_count": 8,
   "metadata": {},
   "outputs": [],
   "source": [
    "# df.info()"
   ]
  },
  {
   "cell_type": "code",
   "execution_count": 56,
   "metadata": {},
   "outputs": [
    {
     "name": "stderr",
     "output_type": "stream",
     "text": [
      "/Users/michalpalinski/anaconda3/envs/myPython/lib/python3.7/site-packages/ipykernel_launcher.py:11: SettingWithCopyWarning: \n",
      "A value is trying to be set on a copy of a slice from a DataFrame.\n",
      "Try using .loc[row_indexer,col_indexer] = value instead\n",
      "\n",
      "See the caveats in the documentation: https://pandas.pydata.org/pandas-docs/stable/user_guide/indexing.html#returning-a-view-versus-a-copy\n",
      "  # This is added back by InteractiveShellApp.init_path()\n"
     ]
    }
   ],
   "source": [
    "# Function to extract text after \"Text of Article:\"\n",
    "def extract_article_text(text):\n",
    "    article_marker = \"Text of Article:\"\n",
    "    article_index = text.find(article_marker)\n",
    "    if article_index != -1:\n",
    "        return text[article_index + len(article_marker):].strip()\n",
    "    else:\n",
    "        return text\n",
    "\n",
    "# Apply the function to create the new column\n",
    "df2['txt_1'] = df2[0].apply(extract_article_text)"
   ]
  },
  {
   "cell_type": "code",
   "execution_count": 57,
   "metadata": {},
   "outputs": [
    {
     "data": {
      "text/html": [
       "<div>\n",
       "<style scoped>\n",
       "    .dataframe tbody tr th:only-of-type {\n",
       "        vertical-align: middle;\n",
       "    }\n",
       "\n",
       "    .dataframe tbody tr th {\n",
       "        vertical-align: top;\n",
       "    }\n",
       "\n",
       "    .dataframe thead th {\n",
       "        text-align: right;\n",
       "    }\n",
       "</style>\n",
       "<table border=\"1\" class=\"dataframe\">\n",
       "  <thead>\n",
       "    <tr style=\"text-align: right;\">\n",
       "      <th></th>\n",
       "      <th>index</th>\n",
       "      <th>0</th>\n",
       "      <th>txt_1</th>\n",
       "    </tr>\n",
       "  </thead>\n",
       "  <tbody>\n",
       "    <tr>\n",
       "      <th>1</th>\n",
       "      <td>49</td>\n",
       "      <td>\\nDate of publication: 04/08/2021\\nLink: https...</td>\n",
       "      <td>Eine Impfpflicht muss man nicht gutheißen. Abe...</td>\n",
       "    </tr>\n",
       "    <tr>\n",
       "      <th>2</th>\n",
       "      <td>49</td>\n",
       "      <td>\\nDate of publication: 04/08/2021\\nLink: https...</td>\n",
       "      <td>Iranischer Präsident ins Amt eingeführt / USA ...</td>\n",
       "    </tr>\n",
       "    <tr>\n",
       "      <th>3</th>\n",
       "      <td>49</td>\n",
       "      <td>\\nDate of publication: 04/08/2021\\nLink: https...</td>\n",
       "      <td>Der ehemalige Präsident Barack Obama wird 60 J...</td>\n",
       "    </tr>\n",
       "    <tr>\n",
       "      <th>4</th>\n",
       "      <td>49</td>\n",
       "      <td>\\nDate of publication: 07/08/2021\\nLink: https...</td>\n",
       "      <td>Nirgends in Deutschland gibt es weniger Christ...</td>\n",
       "    </tr>\n",
       "    <tr>\n",
       "      <th>5</th>\n",
       "      <td>49</td>\n",
       "      <td>\\nDate of publication: 07/08/2021\\nLink: https...</td>\n",
       "      <td>Indonesisches Präsent für Badminton-Gold\\nDie ...</td>\n",
       "    </tr>\n",
       "    <tr>\n",
       "      <th>...</th>\n",
       "      <td>...</td>\n",
       "      <td>...</td>\n",
       "      <td>...</td>\n",
       "    </tr>\n",
       "    <tr>\n",
       "      <th>1115</th>\n",
       "      <td>84</td>\n",
       "      <td>\\nDate of publication: 25/01/2021\\nLink: https...</td>\n",
       "      <td>Afrika erwartet von Biden mehr Respekt und Int...</td>\n",
       "    </tr>\n",
       "    <tr>\n",
       "      <th>1116</th>\n",
       "      <td>84</td>\n",
       "      <td>\\nDate of publication: 25/01/2021\\nLink: https...</td>\n",
       "      <td>Evangelische Theologen plädieren für einen pro...</td>\n",
       "    </tr>\n",
       "    <tr>\n",
       "      <th>1117</th>\n",
       "      <td>84</td>\n",
       "      <td>\\nDate of publication: 26/01/2021\\nLink: https...</td>\n",
       "      <td>Angesichts des tausendfachen Sterbens seien di...</td>\n",
       "    </tr>\n",
       "    <tr>\n",
       "      <th>1118</th>\n",
       "      <td>84</td>\n",
       "      <td>\\nDate of publication: 28/01/2021\\nLink: https...</td>\n",
       "      <td>Der Libanon braucht sein Nationalmuseum mehr d...</td>\n",
       "    </tr>\n",
       "    <tr>\n",
       "      <th>1119</th>\n",
       "      <td>84</td>\n",
       "      <td>\\nDate of publication: 30/01/2021\\nLink: https...</td>\n",
       "      <td>Wie sähe es aus, wenn die Europäer mehr militä...</td>\n",
       "    </tr>\n",
       "  </tbody>\n",
       "</table>\n",
       "<p>1084 rows × 3 columns</p>\n",
       "</div>"
      ],
      "text/plain": [
       "      index                                                  0  \\\n",
       "1        49  \\nDate of publication: 04/08/2021\\nLink: https...   \n",
       "2        49  \\nDate of publication: 04/08/2021\\nLink: https...   \n",
       "3        49  \\nDate of publication: 04/08/2021\\nLink: https...   \n",
       "4        49  \\nDate of publication: 07/08/2021\\nLink: https...   \n",
       "5        49  \\nDate of publication: 07/08/2021\\nLink: https...   \n",
       "...     ...                                                ...   \n",
       "1115     84  \\nDate of publication: 25/01/2021\\nLink: https...   \n",
       "1116     84  \\nDate of publication: 25/01/2021\\nLink: https...   \n",
       "1117     84  \\nDate of publication: 26/01/2021\\nLink: https...   \n",
       "1118     84  \\nDate of publication: 28/01/2021\\nLink: https...   \n",
       "1119     84  \\nDate of publication: 30/01/2021\\nLink: https...   \n",
       "\n",
       "                                                  txt_1  \n",
       "1     Eine Impfpflicht muss man nicht gutheißen. Abe...  \n",
       "2     Iranischer Präsident ins Amt eingeführt / USA ...  \n",
       "3     Der ehemalige Präsident Barack Obama wird 60 J...  \n",
       "4     Nirgends in Deutschland gibt es weniger Christ...  \n",
       "5     Indonesisches Präsent für Badminton-Gold\\nDie ...  \n",
       "...                                                 ...  \n",
       "1115  Afrika erwartet von Biden mehr Respekt und Int...  \n",
       "1116  Evangelische Theologen plädieren für einen pro...  \n",
       "1117  Angesichts des tausendfachen Sterbens seien di...  \n",
       "1118  Der Libanon braucht sein Nationalmuseum mehr d...  \n",
       "1119  Wie sähe es aus, wenn die Europäer mehr militä...  \n",
       "\n",
       "[1084 rows x 3 columns]"
      ]
     },
     "execution_count": 57,
     "metadata": {},
     "output_type": "execute_result"
    }
   ],
   "source": [
    "df2"
   ]
  },
  {
   "cell_type": "markdown",
   "metadata": {},
   "source": [
    "## text cleaning"
   ]
  },
  {
   "cell_type": "code",
   "execution_count": 58,
   "metadata": {},
   "outputs": [],
   "source": [
    "def clean(text):\n",
    "    text = re.sub(\"http\\S+|www\\S+|fb.com\\S+|programm.ard.de\\S+\", '', text)\n",
    "    text = ''.join([char for char in text if char not in '–!\"#$%&\\'()*+,-./:;<=>?@[\\\\]^_`{|}~“”·‘'])\n",
    "    text = re.sub('\\n',' ',text)\n",
    "    text = re.sub('‹|›|„','',text)\n",
    "    text = re.sub(r'\\b\\d+\\b\\s*$', '', text)\n",
    "    text = re.sub(r'\\b\\w*\\d+\\w*\\b', '', text)\n",
    "    text = re.sub(r'\\b\\d+\\b', '', text)\n",
    "    text = re.sub(r'\\s{2,}', ' ', text)\n",
    "    text = re.sub(r'•\\t', '', text)\n",
    "    return text.strip()"
   ]
  },
  {
   "cell_type": "code",
   "execution_count": 59,
   "metadata": {},
   "outputs": [
    {
     "name": "stderr",
     "output_type": "stream",
     "text": [
      "/Users/michalpalinski/anaconda3/envs/myPython/lib/python3.7/site-packages/ipykernel_launcher.py:1: SettingWithCopyWarning: \n",
      "A value is trying to be set on a copy of a slice from a DataFrame.\n",
      "Try using .loc[row_indexer,col_indexer] = value instead\n",
      "\n",
      "See the caveats in the documentation: https://pandas.pydata.org/pandas-docs/stable/user_guide/indexing.html#returning-a-view-versus-a-copy\n",
      "  \"\"\"Entry point for launching an IPython kernel.\n"
     ]
    }
   ],
   "source": [
    "df2['cleaned_txt'] = df2['txt_1'].apply(clean)"
   ]
  },
  {
   "cell_type": "code",
   "execution_count": 60,
   "metadata": {},
   "outputs": [
    {
     "name": "stderr",
     "output_type": "stream",
     "text": [
      "/Users/michalpalinski/anaconda3/envs/myPython/lib/python3.7/site-packages/ipykernel_launcher.py:1: SettingWithCopyWarning: \n",
      "A value is trying to be set on a copy of a slice from a DataFrame.\n",
      "Try using .loc[row_indexer,col_indexer] = value instead\n",
      "\n",
      "See the caveats in the documentation: https://pandas.pydata.org/pandas-docs/stable/user_guide/indexing.html#returning-a-view-versus-a-copy\n",
      "  \"\"\"Entry point for launching an IPython kernel.\n"
     ]
    }
   ],
   "source": [
    "df2['len_text'] = df2['txt_1'].apply(lambda x: len(x.split()))"
   ]
  },
  {
   "cell_type": "code",
   "execution_count": 61,
   "metadata": {},
   "outputs": [
    {
     "data": {
      "text/plain": [
       "count    1084.000000\n",
       "mean      972.971402\n",
       "std       699.643425\n",
       "min         0.000000\n",
       "25%       548.500000\n",
       "50%       816.500000\n",
       "75%      1224.000000\n",
       "max      6819.000000\n",
       "Name: len_text, dtype: float64"
      ]
     },
     "execution_count": 61,
     "metadata": {},
     "output_type": "execute_result"
    }
   ],
   "source": [
    "# sprawdzam jak długi jest tekst i czy czegoś nie ucięło, wyrywkowo\n",
    "df2['len_text'].describe()"
   ]
  },
  {
   "cell_type": "code",
   "execution_count": 62,
   "metadata": {},
   "outputs": [
    {
     "name": "stdout",
     "output_type": "stream",
     "text": [
      "f_name                  ../data/sec_DEU/SZ/Factiva-SZ-22-2023091\n",
      "raw_txt         \\n\\n\\nFürstenfeldbruck\\nTermine\\n\\n442 Wörter...\n",
      "txt_1           \\n\\n\\nFürstenfeldbruck\\nTermine\\n\\n442 Wörter...\n",
      "cleaned_txt    Fürstenfeldbruck Termine Wörter Februar Süddeu...\n",
      "len_text                                                    6028\n",
      "Name: 14, dtype: object\n"
     ]
    }
   ],
   "source": [
    "min_row = df.loc[df['len_text'].idxmin()]\n",
    "\n",
    "# Print the row\n",
    "print(min_row)"
   ]
  },
  {
   "cell_type": "code",
   "execution_count": 69,
   "metadata": {},
   "outputs": [],
   "source": [
    "df2=df2[df2['len_text']>300]"
   ]
  },
  {
   "cell_type": "code",
   "execution_count": 70,
   "metadata": {},
   "outputs": [],
   "source": [
    "df2.to_csv('../data/clean/sec_deu_clean.csv')"
   ]
  }
 ],
 "metadata": {
  "kernelspec": {
   "display_name": "Python 3 (ipykernel)",
   "language": "python",
   "name": "python3"
  },
  "language_info": {
   "codemirror_mode": {
    "name": "ipython",
    "version": 3
   },
   "file_extension": ".py",
   "mimetype": "text/x-python",
   "name": "python",
   "nbconvert_exporter": "python",
   "pygments_lexer": "ipython3",
   "version": "3.11.5"
  }
 },
 "nbformat": 4,
 "nbformat_minor": 4
}
