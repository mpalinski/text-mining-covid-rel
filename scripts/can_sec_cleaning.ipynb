{
 "cells": [
  {
   "cell_type": "markdown",
   "metadata": {},
   "source": [
    "# Preprocessing "
   ]
  },
  {
   "cell_type": "code",
   "execution_count": 22,
   "metadata": {},
   "outputs": [],
   "source": [
    "import pandas as pd\n",
    "import glob\n",
    "import os\n",
    "from pathlib import Path\n",
    "import re\n",
    "import pickle\n",
    "import string\n",
    "import numpy as np\n",
    "from striprtf.striprtf import rtf_to_text\n",
    "from tqdm import tqdm\n",
    "from PyPDF2 import PdfReader"
   ]
  },
  {
   "cell_type": "markdown",
   "metadata": {},
   "source": [
    "## Loading files into the Data Frame"
   ]
  },
  {
   "cell_type": "code",
   "execution_count": 32,
   "metadata": {},
   "outputs": [
    {
     "name": "stderr",
     "output_type": "stream",
     "text": [
      "Processing PDFs: 100%|████████████████████████████| 5/5 [00:52<00:00, 10.42s/it]\n"
     ]
    }
   ],
   "source": [
    "# Specify the folder containing the PDFs\n",
    "folder_path = \"../data/sec_CAN/MacLeans/\"\n",
    "\n",
    "# Initialize lists to store data\n",
    "file_names = []\n",
    "num_pages = []\n",
    "texts = []\n",
    "\n",
    "# Get the list of PDF files in the folder\n",
    "pdf_files = [filename for filename in os.listdir(folder_path) if filename.endswith('.pdf')]\n",
    "\n",
    "# Create a tqdm progress bar to track file processing\n",
    "for filename in tqdm(pdf_files, desc=\"Processing PDFs\"):\n",
    "    # Get the full file path\n",
    "    file_path = os.path.join(folder_path, filename)\n",
    "\n",
    "    # Open the PDF file\n",
    "    pdf_reader = PdfReader(open(file_path, 'rb'))\n",
    "\n",
    "    # Get the number of pages\n",
    "    num_pages.append(len(pdf_reader.pages))\n",
    "\n",
    "    # Initialize a list to store the text of each page\n",
    "    page_texts = []\n",
    "\n",
    "    # Extract text from each page\n",
    "    for i in range(len(pdf_reader.pages)):\n",
    "        pages = pdf_reader.pages[i]\n",
    "        page_texts.append(pages.extract_text())\n",
    "\n",
    "    # Store the file name and page texts in lists\n",
    "    file_names.append(filename)\n",
    "    texts.append(page_texts)\n",
    "\n",
    "# Create a DataFrame from the lists\n",
    "df = pd.DataFrame({'File Name': file_names, 'Number of Pages': num_pages, 'Texts': texts})"
   ]
  },
  {
   "cell_type": "code",
   "execution_count": 39,
   "metadata": {},
   "outputs": [],
   "source": [
    "tmp=df.explode('Texts')"
   ]
  },
  {
   "cell_type": "code",
   "execution_count": 40,
   "metadata": {},
   "outputs": [
    {
     "data": {
      "text/html": [
       "<div>\n",
       "<style scoped>\n",
       "    .dataframe tbody tr th:only-of-type {\n",
       "        vertical-align: middle;\n",
       "    }\n",
       "\n",
       "    .dataframe tbody tr th {\n",
       "        vertical-align: top;\n",
       "    }\n",
       "\n",
       "    .dataframe thead th {\n",
       "        text-align: right;\n",
       "    }\n",
       "</style>\n",
       "<table border=\"1\" class=\"dataframe\">\n",
       "  <thead>\n",
       "    <tr style=\"text-align: right;\">\n",
       "      <th></th>\n",
       "      <th>File Name</th>\n",
       "      <th>Number of Pages</th>\n",
       "      <th>Texts</th>\n",
       "    </tr>\n",
       "  </thead>\n",
       "  <tbody>\n",
       "    <tr>\n",
       "      <th>0</th>\n",
       "      <td>MacLeans October 2020-1.pdf</td>\n",
       "      <td>124</td>\n",
       "      <td>HOW NOVA SCOTIA \\nFAMILIES FINALLY WON \\nTHEIR...</td>\n",
       "    </tr>\n",
       "    <tr>\n",
       "      <th>0</th>\n",
       "      <td>MacLeans October 2020-1.pdf</td>\n",
       "      <td>124</td>\n",
       "      <td></td>\n",
       "    </tr>\n",
       "    <tr>\n",
       "      <th>0</th>\n",
       "      <td>MacLeans October 2020-1.pdf</td>\n",
       "      <td>124</td>\n",
       "      <td>4 The Editorial |6 Letters |8 Columns  Pam Pal...</td>\n",
       "    </tr>\n",
       "    <tr>\n",
       "      <th>0</th>\n",
       "      <td>MacLeans October 2020-1.pdf</td>\n",
       "      <td>124</td>\n",
       "      <td>EDITOR-IN-CHIEF  Alison Uncles\\nDEPUTY EDITO...</td>\n",
       "    </tr>\n",
       "    <tr>\n",
       "      <th>0</th>\n",
       "      <td>MacLeans October 2020-1.pdf</td>\n",
       "      <td>124</td>\n",
       "      <td>Read up.\\nCanada’s magazine\\nSINCE 1905Because...</td>\n",
       "    </tr>\n",
       "    <tr>\n",
       "      <th>...</th>\n",
       "      <td>...</td>\n",
       "      <td>...</td>\n",
       "      <td>...</td>\n",
       "    </tr>\n",
       "    <tr>\n",
       "      <th>4</th>\n",
       "      <td>MacLeans April 2021-6.pdf</td>\n",
       "      <td>100</td>\n",
       "      <td>SPECIAL ISSUE · YEAR ONE\\nfaced the biggest na...</td>\n",
       "    </tr>\n",
       "    <tr>\n",
       "      <th>4</th>\n",
       "      <td>MacLeans April 2021-6.pdf</td>\n",
       "      <td>100</td>\n",
       "      <td>Julie Nolke has been experiencing the pandemic...</td>\n",
       "    </tr>\n",
       "    <tr>\n",
       "      <th>4</th>\n",
       "      <td>MacLeans April 2021-6.pdf</td>\n",
       "      <td>100</td>\n",
       "      <td>SPECIAL ISSUE · YEAR ONE\\nnot political ones.”...</td>\n",
       "    </tr>\n",
       "    <tr>\n",
       "      <th>4</th>\n",
       "      <td>MacLeans April 2021-6.pdf</td>\n",
       "      <td>100</td>\n",
       "      <td></td>\n",
       "    </tr>\n",
       "    <tr>\n",
       "      <th>4</th>\n",
       "      <td>MacLeans April 2021-6.pdf</td>\n",
       "      <td>100</td>\n",
       "      <td>T hey Were  \\nLoved\\nThe magnitude of COVID-19...</td>\n",
       "    </tr>\n",
       "  </tbody>\n",
       "</table>\n",
       "<p>492 rows × 3 columns</p>\n",
       "</div>"
      ],
      "text/plain": [
       "                      File Name  Number of Pages  \\\n",
       "0   MacLeans October 2020-1.pdf              124   \n",
       "0   MacLeans October 2020-1.pdf              124   \n",
       "0   MacLeans October 2020-1.pdf              124   \n",
       "0   MacLeans October 2020-1.pdf              124   \n",
       "0   MacLeans October 2020-1.pdf              124   \n",
       "..                          ...              ...   \n",
       "4     MacLeans April 2021-6.pdf              100   \n",
       "4     MacLeans April 2021-6.pdf              100   \n",
       "4     MacLeans April 2021-6.pdf              100   \n",
       "4     MacLeans April 2021-6.pdf              100   \n",
       "4     MacLeans April 2021-6.pdf              100   \n",
       "\n",
       "                                                Texts  \n",
       "0   HOW NOVA SCOTIA \\nFAMILIES FINALLY WON \\nTHEIR...  \n",
       "0                                                      \n",
       "0   4 The Editorial |6 Letters |8 Columns  Pam Pal...  \n",
       "0     EDITOR-IN-CHIEF  Alison Uncles\\nDEPUTY EDITO...  \n",
       "0   Read up.\\nCanada’s magazine\\nSINCE 1905Because...  \n",
       "..                                                ...  \n",
       "4   SPECIAL ISSUE · YEAR ONE\\nfaced the biggest na...  \n",
       "4   Julie Nolke has been experiencing the pandemic...  \n",
       "4   SPECIAL ISSUE · YEAR ONE\\nnot political ones.”...  \n",
       "4                                                      \n",
       "4   T hey Were  \\nLoved\\nThe magnitude of COVID-19...  \n",
       "\n",
       "[492 rows x 3 columns]"
      ]
     },
     "execution_count": 40,
     "metadata": {},
     "output_type": "execute_result"
    }
   ],
   "source": [
    "tmp"
   ]
  },
  {
   "cell_type": "code",
   "execution_count": 41,
   "metadata": {},
   "outputs": [],
   "source": [
    "possible_words = ['pandemic', 'COVID', 'covid','COVID-19','covid-19','virus']\n",
    "tmp = tmp[tmp['Texts'].str.contains('|'.join(possible_words))]"
   ]
  },
  {
   "cell_type": "code",
   "execution_count": 42,
   "metadata": {},
   "outputs": [],
   "source": [
    "possible_words = ['Church','church','Evangelicals','evangelicals','Islam','islam','Jewish','jewish']\n",
    "tmp = tmp[tmp['Texts'].str.contains('|'.join(possible_words))]"
   ]
  },
  {
   "cell_type": "code",
   "execution_count": 48,
   "metadata": {},
   "outputs": [],
   "source": [
    "tmp=tmp[['File Name','Texts']]"
   ]
  },
  {
   "cell_type": "code",
   "execution_count": 51,
   "metadata": {},
   "outputs": [
    {
     "name": "stderr",
     "output_type": "stream",
     "text": [
      "/var/folders/7q/c3c06q9s7m552ts_r68zhmz00000gn/T/ipykernel_6348/2579734543.py:1: SettingWithCopyWarning: \n",
      "A value is trying to be set on a copy of a slice from a DataFrame\n",
      "\n",
      "See the caveats in the documentation: https://pandas.pydata.org/pandas-docs/stable/user_guide/indexing.html#returning-a-view-versus-a-copy\n",
      "  tmp.rename(columns={'File Name':'f_name','Texts':'raw_txt'},inplace=True)\n"
     ]
    }
   ],
   "source": [
    "tmp.rename(columns={'File Name':'f_name','Texts':'raw_txt_l'},inplace=True)"
   ]
  },
  {
   "cell_type": "code",
   "execution_count": 79,
   "metadata": {},
   "outputs": [],
   "source": [
    "# Define the directory path where RTF files are located\n",
    "dir_path = \"../data/sec_CAN/\"\n",
    "\n",
    "def get_docx_files(dir_path):\n",
    "    \"\"\"\n",
    "    Retrieves a list of RTF file paths within a specified directory and its subdirectories.\n",
    "\n",
    "    Parameters:\n",
    "    dir_path (str): The directory path to search for RTF files.\n",
    "\n",
    "    Returns:\n",
    "    list: A list of file paths to RTF files found within the directory and its subdirectories.\n",
    "    \"\"\"\n",
    "    docx_files = []\n",
    "    \n",
    "    for root, _, files in os.walk(dir_path):\n",
    "        for f in files:\n",
    "            if f.endswith('.rtf'):\n",
    "                docx_files.append(os.path.join(root, f))\n",
    "    \n",
    "    return docx_files\n",
    "\n",
    "# Get a list of RTF files in the specified directory and its subdirectories\n",
    "docx_files = get_docx_files(dir_path)\n",
    "\n",
    "# Create an empty list to store data extracted from the RTF files\n",
    "data = []\n",
    "\n",
    "# Iterate over all RTF files in the directory\n",
    "for filename in docx_files:\n",
    "    if filename.endswith(\".rtf\"):\n",
    "        with open(filename, 'rb') as file:\n",
    "            rtf_content = file.read().decode('utf-8')  # Decode binary content to string\n",
    "            \n",
    "            # Assuming you have a function rtf_to_text that converts RTF to plain text\n",
    "            rtf_text = rtf_to_text(rtf_content)\n",
    "            \n",
    "            # Append the filename (excluding the \".rtf\" extension) and the extracted text to the data list\n",
    "            data.append([filename[:-5], rtf_text])\n",
    "\n",
    "# Create a pandas DataFrame from the extracted data\n",
    "df = pd.DataFrame(data, columns=['f_name', 'raw_txt'])"
   ]
  },
  {
   "cell_type": "code",
   "execution_count": 80,
   "metadata": {},
   "outputs": [
    {
     "data": {
      "text/plain": [
       "25"
      ]
     },
     "execution_count": 80,
     "metadata": {},
     "output_type": "execute_result"
    }
   ],
   "source": [
    "len(df)"
   ]
  },
  {
   "cell_type": "code",
   "execution_count": 81,
   "metadata": {},
   "outputs": [],
   "source": [
    "df['raw_txt_l']=df['raw_txt'].apply(lambda x: x.split('\\n\\n\\n\\n\\n\\n'))"
   ]
  },
  {
   "cell_type": "code",
   "execution_count": 82,
   "metadata": {},
   "outputs": [],
   "source": [
    "df=df.explode('raw_txt_l')"
   ]
  },
  {
   "cell_type": "code",
   "execution_count": 83,
   "metadata": {},
   "outputs": [],
   "source": [
    "df=pd.concat([df,tmp])"
   ]
  },
  {
   "cell_type": "code",
   "execution_count": 84,
   "metadata": {},
   "outputs": [],
   "source": [
    "df=df[['f_name','raw_txt_l']]"
   ]
  },
  {
   "cell_type": "markdown",
   "metadata": {},
   "source": [
    "## text cleaning"
   ]
  },
  {
   "cell_type": "code",
   "execution_count": 85,
   "metadata": {},
   "outputs": [],
   "source": [
    "def clean(text):\n",
    "    text = re.sub(\"http\\S+|www\\S+|fb.com\\S+|Sunday Life\\S+\", '', text)\n",
    "    text = ''.join([char for char in text if char not in '–!\"#$%&\\'()*+,-./:;<=>?@[\\\\]^_`{|}~“”·‘'])\n",
    "    text = re.sub('\\n',' ',text)\n",
    "    text = re.sub('‹|›|„','',text)\n",
    "    text = re.sub(r'\\b\\d+\\b\\s*$', '', text)\n",
    "    text = re.sub(r'\\b\\w*\\d+\\w*\\b', '', text)\n",
    "    text = re.sub(r'\\b\\d+\\b', '', text)\n",
    "    text = re.sub(r'\\s{2,}', ' ', text)\n",
    "    text = re.sub(r'•\\t', '', text)\n",
    "    return text.strip()"
   ]
  },
  {
   "cell_type": "code",
   "execution_count": 86,
   "metadata": {},
   "outputs": [],
   "source": [
    "df['cleaned_txt'] = df['raw_txt_l'].apply(clean)"
   ]
  },
  {
   "cell_type": "code",
   "execution_count": 87,
   "metadata": {},
   "outputs": [],
   "source": [
    "df['len_text'] = df['cleaned_txt'].apply(lambda x: len(x.split()))"
   ]
  },
  {
   "cell_type": "code",
   "execution_count": 88,
   "metadata": {},
   "outputs": [
    {
     "data": {
      "text/plain": [
       "count     2343.000000\n",
       "mean      1900.397354\n",
       "std       2314.562214\n",
       "min         99.000000\n",
       "25%        970.000000\n",
       "50%       1320.000000\n",
       "75%       1937.500000\n",
       "max      19707.000000\n",
       "Name: len_text, dtype: float64"
      ]
     },
     "execution_count": 88,
     "metadata": {},
     "output_type": "execute_result"
    }
   ],
   "source": [
    "df['len_text'].describe()"
   ]
  },
  {
   "cell_type": "code",
   "execution_count": 89,
   "metadata": {},
   "outputs": [],
   "source": [
    "df=df[df['len_text']>300]"
   ]
  },
  {
   "cell_type": "code",
   "execution_count": 90,
   "metadata": {},
   "outputs": [
    {
     "data": {
      "text/plain": [
       "2316"
      ]
     },
     "execution_count": 90,
     "metadata": {},
     "output_type": "execute_result"
    }
   ],
   "source": [
    "len(df)"
   ]
  },
  {
   "cell_type": "code",
   "execution_count": 91,
   "metadata": {},
   "outputs": [],
   "source": [
    "di={'Englisch':'','©':'','ENGLISCH':'','GMBN':'','The Globe and Mail Inc.':'', 'All Rights Reserved':'','News':'',' National Post':''}\n",
    "df['cleaned_txt'] = df['cleaned_txt'].replace(di, regex=True)"
   ]
  },
  {
   "cell_type": "code",
   "execution_count": 92,
   "metadata": {},
   "outputs": [],
   "source": [
    "df=df.reset_index(drop=True)"
   ]
  },
  {
   "cell_type": "code",
   "execution_count": 93,
   "metadata": {},
   "outputs": [
    {
     "data": {
      "text/plain": [
       "'SEOpinion HDJesus Christs rebel roots have been long forgotten by the Wests Christian right BYBy MICHAEL COREN Wörter Oktober SNThe Globe and Mail SCGLOB EDOntario LA CY  LPOPINION Athor of books including his newly published The Rebel Christ Earlier this month the Sunday Gospel reading in Anglican and Roman Catholic Churches the world over was one thats known even to atheists It is easier for a camel to go through the eye of a needle than for someone who is rich to enter the kingdom of God TDTheres context to this of course as there always is with any ancient writing but at its core is the essence of Jesus Here was the son of a firstcentury Jewish carpenter living in an occupied land as the friend of the marginalized rejected and poor criticizing as he so often did the powerful legalistic and materialistic Its a line that is part of his broader preaching on communality and human equality with demands that were entirely revolutionary In short he was the rebel Christ This might surprise those who understandably regard the coalition of conservatism and Christianity as a selfevident truth especially in North America Whether its the evangelical influence over the Republican Party in the US the enduring power of the antiabortion lobby or the recent surge of the Peoples Party here in Canada conservative Christians have taken up an organized place in the body politic And politicians have certainly understood that Donald Trump for instance transformed into a strident social conservative to run for office This craven conversion on the road to Washington didnt convince all of the Christian right but there were enough who were more than willing to ignore Mr Trumps cynicism if he backed policies they favoured But this phenomenon is relatively recent It wasnt until the and the emergence of a more open and liberated society that many evangelicals coalesced politically This was in reaction and resistance to what they perceived as moral decay but was counted by most others as reasonable progress Even the more moderate members of various Baptist Pentecostal and numerous independent churches are still deeply suspicious of anything regarded as secular or liberal The rightwing fringe of Roman Catholicism meanwhile was stirred into action in the by the Roe v Wade decision in the US or by similar provisions of reproductive rights in Canada Opposing abortion is still central to mainstream Catholicism so it wasnt difficult to mobilize a traditionalist wave of Catholic media activists and politicians and to form alliances with separated Protestant brethren Along with abortion came the fight against LGBTQ equality and an obsession with the canard of increasing state control over religious liberty We saw this recently in the opposition to the Canadian governments Bill to ban socalled conversion therapy which is regarded by the International Forensic Expert Group as torture most Conservative MPs voted against the bill claiming that it would infringe on religious freedom and prevent pastors from counselling people Im an Anglican priest and I can assure you This is total nonsense But cogent argument doesnt help in our current dictatorship of the irrational The classic definition of theology as faith seeking understanding is crucial to any mature belief in God but there has not been enough of this on the Christian right The antivaccination antimask and pandemicdenial movement for example is soaked in conservative Christianity Look at the demonstrations read their media platforms and see how fundamentalist churches especially in the US have operated through all this Vaccinations are many claim developed from fetal stem cells or are the Biblical mark of the beast others say is a stateinvented hoax designed to reduce and control the population These ludicrous allegations have no foundation in the tenets of Christian orthodoxy and have influenced public policy leading to further infection and death Politicians may not always be convinced by the logic but they can certainly be convinced by the number of votes in the offing At heart the contemporary Christian right sees much of what is outside of its world as being untrustworthy They are the remnant the faithful church with a Godordained mission which explains their energy and commitment as well as their tunnel vision That Jesus never said a word about abortion or homosexuality and lived a somewhat socialist lifestyle doesnt seem to matter This hasnt been about the Gospels in a very long time The Christian right has engaged in and amplified a literalist and selective reading of the Hebrew Scriptures and some of the letters of St Paul in ways that would likely appall those who wrote them Unfortunately this kind of thinking doesnt seem to be going away any time soon Western societies are becoming increasingly polarized and absolutist answers even when they may appear hysterical are always alluring And so if todays Christian right continues to reject Jesuss history as a rebel history may yet show us all what kind of darkness can arise when narrow minds entrench NSgrel Religion gcat PoliticalGeneral  gcom SocietyCommunity REusa United States namz North America IPDOpinion PUBANDokument'"
      ]
     },
     "execution_count": 93,
     "metadata": {},
     "output_type": "execute_result"
    }
   ],
   "source": [
    "df['cleaned_txt'][0]"
   ]
  },
  {
   "cell_type": "code",
   "execution_count": 94,
   "metadata": {},
   "outputs": [],
   "source": [
    "possible_words = ['pandemic', 'COVID', 'covid','COVID-19','covid-19','virus']\n",
    "\n",
    "df = df[df['cleaned_txt'].str.contains('|'.join(possible_words))]"
   ]
  },
  {
   "cell_type": "code",
   "execution_count": 95,
   "metadata": {},
   "outputs": [],
   "source": [
    "df=df[['f_name','cleaned_txt']]"
   ]
  },
  {
   "cell_type": "code",
   "execution_count": 97,
   "metadata": {},
   "outputs": [],
   "source": [
    "df.to_csv('../data/clean/sec_can_clean.csv')"
   ]
  },
  {
   "cell_type": "code",
   "execution_count": 96,
   "metadata": {},
   "outputs": [
    {
     "data": {
      "text/html": [
       "<div>\n",
       "<style scoped>\n",
       "    .dataframe tbody tr th:only-of-type {\n",
       "        vertical-align: middle;\n",
       "    }\n",
       "\n",
       "    .dataframe tbody tr th {\n",
       "        vertical-align: top;\n",
       "    }\n",
       "\n",
       "    .dataframe thead th {\n",
       "        text-align: right;\n",
       "    }\n",
       "</style>\n",
       "<table border=\"1\" class=\"dataframe\">\n",
       "  <thead>\n",
       "    <tr style=\"text-align: right;\">\n",
       "      <th></th>\n",
       "      <th>f_name</th>\n",
       "      <th>cleaned_txt</th>\n",
       "    </tr>\n",
       "  </thead>\n",
       "  <tbody>\n",
       "    <tr>\n",
       "      <th>0</th>\n",
       "      <td>../data/sec_CAN/Globe and Mail Canada/Factiva-...</td>\n",
       "      <td>SEOpinion HDJesus Christs rebel roots have bee...</td>\n",
       "    </tr>\n",
       "    <tr>\n",
       "      <th>1</th>\n",
       "      <td>../data/sec_CAN/Globe and Mail Canada/Factiva-...</td>\n",
       "      <td>SEPursuits HDOriginal kin BYBy Ian Brown CRSta...</td>\n",
       "    </tr>\n",
       "    <tr>\n",
       "      <th>3</th>\n",
       "      <td>../data/sec_CAN/Globe and Mail Canada/Factiva-...</td>\n",
       "      <td>SESports HDBIRTH AND DEATH NOTICES Wörter Okto...</td>\n",
       "    </tr>\n",
       "    <tr>\n",
       "      <th>4</th>\n",
       "      <td>../data/sec_CAN/Globe and Mail Canada/Factiva-...</td>\n",
       "      <td>SELife Arts HDWHEN DAD AND I BOTH HAD CANCER B...</td>\n",
       "    </tr>\n",
       "    <tr>\n",
       "      <th>6</th>\n",
       "      <td>../data/sec_CAN/Globe and Mail Canada/Factiva-...</td>\n",
       "      <td>HDCouncillor Jyoti Gondek wins mayoral race in...</td>\n",
       "    </tr>\n",
       "    <tr>\n",
       "      <th>...</th>\n",
       "      <td>...</td>\n",
       "      <td>...</td>\n",
       "    </tr>\n",
       "    <tr>\n",
       "      <th>2311</th>\n",
       "      <td>MacLeans january 2021.pdf</td>\n",
       "      <td>there skyscrapers skyscrape there T rump we co...</td>\n",
       "    </tr>\n",
       "    <tr>\n",
       "      <th>2312</th>\n",
       "      <td>MacLeans january 2021.pdf</td>\n",
       "      <td>ence from restrictions—particularly when it ke...</td>\n",
       "    </tr>\n",
       "    <tr>\n",
       "      <th>2313</th>\n",
       "      <td>MacLeans April 2021-6.pdf</td>\n",
       "      <td>SPECIAL ISSUE YEAR ONE people were wrong think...</td>\n",
       "    </tr>\n",
       "    <tr>\n",
       "      <th>2314</th>\n",
       "      <td>MacLeans April 2021-6.pdf</td>\n",
       "      <td>SPECIAL ISSUE YEAR ONE public health expertise...</td>\n",
       "    </tr>\n",
       "    <tr>\n",
       "      <th>2315</th>\n",
       "      <td>MacLeans April 2021-6.pdf</td>\n",
       "      <td>SPECIAL ISSUE YEAR ONE faced the biggest natio...</td>\n",
       "    </tr>\n",
       "  </tbody>\n",
       "</table>\n",
       "<p>1932 rows × 2 columns</p>\n",
       "</div>"
      ],
      "text/plain": [
       "                                                 f_name  \\\n",
       "0     ../data/sec_CAN/Globe and Mail Canada/Factiva-...   \n",
       "1     ../data/sec_CAN/Globe and Mail Canada/Factiva-...   \n",
       "3     ../data/sec_CAN/Globe and Mail Canada/Factiva-...   \n",
       "4     ../data/sec_CAN/Globe and Mail Canada/Factiva-...   \n",
       "6     ../data/sec_CAN/Globe and Mail Canada/Factiva-...   \n",
       "...                                                 ...   \n",
       "2311                          MacLeans january 2021.pdf   \n",
       "2312                          MacLeans january 2021.pdf   \n",
       "2313                          MacLeans April 2021-6.pdf   \n",
       "2314                          MacLeans April 2021-6.pdf   \n",
       "2315                          MacLeans April 2021-6.pdf   \n",
       "\n",
       "                                            cleaned_txt  \n",
       "0     SEOpinion HDJesus Christs rebel roots have bee...  \n",
       "1     SEPursuits HDOriginal kin BYBy Ian Brown CRSta...  \n",
       "3     SESports HDBIRTH AND DEATH NOTICES Wörter Okto...  \n",
       "4     SELife Arts HDWHEN DAD AND I BOTH HAD CANCER B...  \n",
       "6     HDCouncillor Jyoti Gondek wins mayoral race in...  \n",
       "...                                                 ...  \n",
       "2311  there skyscrapers skyscrape there T rump we co...  \n",
       "2312  ence from restrictions—particularly when it ke...  \n",
       "2313  SPECIAL ISSUE YEAR ONE people were wrong think...  \n",
       "2314  SPECIAL ISSUE YEAR ONE public health expertise...  \n",
       "2315  SPECIAL ISSUE YEAR ONE faced the biggest natio...  \n",
       "\n",
       "[1932 rows x 2 columns]"
      ]
     },
     "execution_count": 96,
     "metadata": {},
     "output_type": "execute_result"
    }
   ],
   "source": [
    "df"
   ]
  },
  {
   "cell_type": "code",
   "execution_count": null,
   "metadata": {},
   "outputs": [],
   "source": []
  }
 ],
 "metadata": {
  "kernelspec": {
   "display_name": "Python 3 (ipykernel)",
   "language": "python",
   "name": "python3"
  },
  "language_info": {
   "codemirror_mode": {
    "name": "ipython",
    "version": 3
   },
   "file_extension": ".py",
   "mimetype": "text/x-python",
   "name": "python",
   "nbconvert_exporter": "python",
   "pygments_lexer": "ipython3",
   "version": "3.11.5"
  }
 },
 "nbformat": 4,
 "nbformat_minor": 4
}
