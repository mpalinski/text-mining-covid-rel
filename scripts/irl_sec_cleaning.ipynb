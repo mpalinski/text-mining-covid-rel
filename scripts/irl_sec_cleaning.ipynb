{
 "cells": [
  {
   "cell_type": "markdown",
   "metadata": {},
   "source": [
    "# Preprocessing "
   ]
  },
  {
   "cell_type": "code",
   "execution_count": 71,
   "metadata": {},
   "outputs": [],
   "source": [
    "import pandas as pd\n",
    "import glob\n",
    "import os\n",
    "from pathlib import Path\n",
    "import re\n",
    "import pickle\n",
    "import string\n",
    "import numpy as np\n",
    "from striprtf.striprtf import rtf_to_text"
   ]
  },
  {
   "cell_type": "markdown",
   "metadata": {},
   "source": [
    "## Loading files into the Data Frame"
   ]
  },
  {
   "cell_type": "code",
   "execution_count": 3,
   "metadata": {},
   "outputs": [],
   "source": [
    "# Define the directory path where RTF files are located\n",
    "dir_path = \"../data/sec_IRL/\"\n",
    "\n",
    "def get_docx_files(dir_path):\n",
    "    \"\"\"\n",
    "    Retrieves a list of RTF file paths within a specified directory and its subdirectories.\n",
    "\n",
    "    Parameters:\n",
    "    dir_path (str): The directory path to search for RTF files.\n",
    "\n",
    "    Returns:\n",
    "    list: A list of file paths to RTF files found within the directory and its subdirectories.\n",
    "    \"\"\"\n",
    "    docx_files = []\n",
    "    \n",
    "    for root, _, files in os.walk(dir_path):\n",
    "        for f in files:\n",
    "            if f.endswith('.rtf'):\n",
    "                docx_files.append(os.path.join(root, f))\n",
    "    \n",
    "    return docx_files\n",
    "\n",
    "# Get a list of RTF files in the specified directory and its subdirectories\n",
    "docx_files = get_docx_files(dir_path)\n",
    "\n",
    "# Create an empty list to store data extracted from the RTF files\n",
    "data = []\n",
    "\n",
    "# Iterate over all RTF files in the directory\n",
    "for filename in docx_files:\n",
    "    if filename.endswith(\".rtf\"):\n",
    "        with open(filename, 'rb') as file:\n",
    "            rtf_content = file.read().decode('utf-8')  # Decode binary content to string\n",
    "            \n",
    "            # Assuming you have a function rtf_to_text that converts RTF to plain text\n",
    "            rtf_text = rtf_to_text(rtf_content)\n",
    "            \n",
    "            # Append the filename (excluding the \".rtf\" extension) and the extracted text to the data list\n",
    "            data.append([filename[:-5], rtf_text])\n",
    "\n",
    "# Create a pandas DataFrame from the extracted data\n",
    "df = pd.DataFrame(data, columns=['f_name', 'raw_txt'])"
   ]
  },
  {
   "cell_type": "code",
   "execution_count": 6,
   "metadata": {},
   "outputs": [
    {
     "data": {
      "text/plain": [
       "11"
      ]
     },
     "execution_count": 6,
     "metadata": {},
     "output_type": "execute_result"
    }
   ],
   "source": [
    "len(df)"
   ]
  },
  {
   "cell_type": "code",
   "execution_count": 31,
   "metadata": {},
   "outputs": [],
   "source": [
    "df['raw_txt_l']=df['raw_txt'].apply(lambda x: x.split('\\n\\n\\n\\n\\n\\n'))"
   ]
  },
  {
   "cell_type": "code",
   "execution_count": 34,
   "metadata": {},
   "outputs": [],
   "source": [
    "df=df.explode('raw_txt_l')"
   ]
  },
  {
   "cell_type": "code",
   "execution_count": 35,
   "metadata": {},
   "outputs": [
    {
     "data": {
      "text/html": [
       "<div>\n",
       "<style scoped>\n",
       "    .dataframe tbody tr th:only-of-type {\n",
       "        vertical-align: middle;\n",
       "    }\n",
       "\n",
       "    .dataframe tbody tr th {\n",
       "        vertical-align: top;\n",
       "    }\n",
       "\n",
       "    .dataframe thead th {\n",
       "        text-align: right;\n",
       "    }\n",
       "</style>\n",
       "<table border=\"1\" class=\"dataframe\">\n",
       "  <thead>\n",
       "    <tr style=\"text-align: right;\">\n",
       "      <th></th>\n",
       "      <th>f_name</th>\n",
       "      <th>raw_txt</th>\n",
       "      <th>raw_txt_l</th>\n",
       "    </tr>\n",
       "  </thead>\n",
       "  <tbody>\n",
       "    <tr>\n",
       "      <th>0</th>\n",
       "      <td>../data/sec_IRL/Sunday Independent/Factiva-202...</td>\n",
       "      <td>\\n\\n\\nNews\\nSaudi princes detained amid coup ...</td>\n",
       "      <td>\\n\\n\\nNews\\nSaudi princes detained amid coup ...</td>\n",
       "    </tr>\n",
       "    <tr>\n",
       "      <th>0</th>\n",
       "      <td>../data/sec_IRL/Sunday Independent/Factiva-202...</td>\n",
       "      <td>\\n\\n\\nNews\\nSaudi princes detained amid coup ...</td>\n",
       "      <td>News\\nWe should learn a sense [...]\\n\\n1,192 W...</td>\n",
       "    </tr>\n",
       "    <tr>\n",
       "      <th>0</th>\n",
       "      <td>../data/sec_IRL/Sunday Independent/Factiva-202...</td>\n",
       "      <td>\\n\\n\\nNews\\nSaudi princes detained amid coup ...</td>\n",
       "      <td>News\\nDonald Trump is no buffoon or tangerine ...</td>\n",
       "    </tr>\n",
       "    <tr>\n",
       "      <th>0</th>\n",
       "      <td>../data/sec_IRL/Sunday Independent/Factiva-202...</td>\n",
       "      <td>\\n\\n\\nNews\\nSaudi princes detained amid coup ...</td>\n",
       "      <td>News\\nPERSONAL PRIVACY: SACRIFICED ON THE ALTA...</td>\n",
       "    </tr>\n",
       "    <tr>\n",
       "      <th>0</th>\n",
       "      <td>../data/sec_IRL/Sunday Independent/Factiva-202...</td>\n",
       "      <td>\\n\\n\\nNews\\nSaudi princes detained amid coup ...</td>\n",
       "      <td>News\\nA tale of two brothers United after 80 y...</td>\n",
       "    </tr>\n",
       "    <tr>\n",
       "      <th>...</th>\n",
       "      <td>...</td>\n",
       "      <td>...</td>\n",
       "      <td>...</td>\n",
       "    </tr>\n",
       "    <tr>\n",
       "      <th>10</th>\n",
       "      <td>../data/sec_IRL/Belfast Telegraph/Factiva-2023...</td>\n",
       "      <td>\\n\\n\\nNews\\n'God is not a killjoy, but if He ...</td>\n",
       "      <td>News; Teasers\\nHow well do you remember 2022?\\...</td>\n",
       "    </tr>\n",
       "    <tr>\n",
       "      <th>10</th>\n",
       "      <td>../data/sec_IRL/Belfast Telegraph/Factiva-2023...</td>\n",
       "      <td>\\n\\n\\nNews\\n'God is not a killjoy, but if He ...</td>\n",
       "      <td>News\\nKey events that played a role in the phe...</td>\n",
       "    </tr>\n",
       "    <tr>\n",
       "      <th>10</th>\n",
       "      <td>../data/sec_IRL/Belfast Telegraph/Factiva-2023...</td>\n",
       "      <td>\\n\\n\\nNews\\n'God is not a killjoy, but if He ...</td>\n",
       "      <td>News\\nGroup targeted by racists puts city base...</td>\n",
       "    </tr>\n",
       "    <tr>\n",
       "      <th>10</th>\n",
       "      <td>../data/sec_IRL/Belfast Telegraph/Factiva-2023...</td>\n",
       "      <td>\\n\\n\\nNews\\n'God is not a killjoy, but if He ...</td>\n",
       "      <td>News; Teasers\\n'The Gospel remains as relevant...</td>\n",
       "    </tr>\n",
       "    <tr>\n",
       "      <th>10</th>\n",
       "      <td>../data/sec_IRL/Belfast Telegraph/Factiva-2023...</td>\n",
       "      <td>\\n\\n\\nNews\\n'God is not a killjoy, but if He ...</td>\n",
       "      <td>News\\nSisters'line in artful Jammie Dodgers\\n\\...</td>\n",
       "    </tr>\n",
       "  </tbody>\n",
       "</table>\n",
       "<p>742 rows × 3 columns</p>\n",
       "</div>"
      ],
      "text/plain": [
       "                                               f_name  \\\n",
       "0   ../data/sec_IRL/Sunday Independent/Factiva-202...   \n",
       "0   ../data/sec_IRL/Sunday Independent/Factiva-202...   \n",
       "0   ../data/sec_IRL/Sunday Independent/Factiva-202...   \n",
       "0   ../data/sec_IRL/Sunday Independent/Factiva-202...   \n",
       "0   ../data/sec_IRL/Sunday Independent/Factiva-202...   \n",
       "..                                                ...   \n",
       "10  ../data/sec_IRL/Belfast Telegraph/Factiva-2023...   \n",
       "10  ../data/sec_IRL/Belfast Telegraph/Factiva-2023...   \n",
       "10  ../data/sec_IRL/Belfast Telegraph/Factiva-2023...   \n",
       "10  ../data/sec_IRL/Belfast Telegraph/Factiva-2023...   \n",
       "10  ../data/sec_IRL/Belfast Telegraph/Factiva-2023...   \n",
       "\n",
       "                                              raw_txt  \\\n",
       "0    \\n\\n\\nNews\\nSaudi princes detained amid coup ...   \n",
       "0    \\n\\n\\nNews\\nSaudi princes detained amid coup ...   \n",
       "0    \\n\\n\\nNews\\nSaudi princes detained amid coup ...   \n",
       "0    \\n\\n\\nNews\\nSaudi princes detained amid coup ...   \n",
       "0    \\n\\n\\nNews\\nSaudi princes detained amid coup ...   \n",
       "..                                                ...   \n",
       "10   \\n\\n\\nNews\\n'God is not a killjoy, but if He ...   \n",
       "10   \\n\\n\\nNews\\n'God is not a killjoy, but if He ...   \n",
       "10   \\n\\n\\nNews\\n'God is not a killjoy, but if He ...   \n",
       "10   \\n\\n\\nNews\\n'God is not a killjoy, but if He ...   \n",
       "10   \\n\\n\\nNews\\n'God is not a killjoy, but if He ...   \n",
       "\n",
       "                                            raw_txt_l  \n",
       "0    \\n\\n\\nNews\\nSaudi princes detained amid coup ...  \n",
       "0   News\\nWe should learn a sense [...]\\n\\n1,192 W...  \n",
       "0   News\\nDonald Trump is no buffoon or tangerine ...  \n",
       "0   News\\nPERSONAL PRIVACY: SACRIFICED ON THE ALTA...  \n",
       "0   News\\nA tale of two brothers United after 80 y...  \n",
       "..                                                ...  \n",
       "10  News; Teasers\\nHow well do you remember 2022?\\...  \n",
       "10  News\\nKey events that played a role in the phe...  \n",
       "10  News\\nGroup targeted by racists puts city base...  \n",
       "10  News; Teasers\\n'The Gospel remains as relevant...  \n",
       "10  News\\nSisters'line in artful Jammie Dodgers\\n\\...  \n",
       "\n",
       "[742 rows x 3 columns]"
      ]
     },
     "execution_count": 35,
     "metadata": {},
     "output_type": "execute_result"
    }
   ],
   "source": [
    "df"
   ]
  },
  {
   "cell_type": "markdown",
   "metadata": {},
   "source": [
    "## text cleaning"
   ]
  },
  {
   "cell_type": "code",
   "execution_count": 36,
   "metadata": {},
   "outputs": [],
   "source": [
    "def clean(text):\n",
    "    text = re.sub(\"http\\S+|www\\S+|fb.com\\S+|Sunday Life\\S+\", '', text)\n",
    "    text = ''.join([char for char in text if char not in '–!\"#$%&\\'()*+,-./:;<=>?@[\\\\]^_`{|}~“”·‘'])\n",
    "    text = re.sub('\\n',' ',text)\n",
    "    text = re.sub('‹|›|„','',text)\n",
    "    text = re.sub(r'\\b\\d+\\b\\s*$', '', text)\n",
    "    text = re.sub(r'\\b\\w*\\d+\\w*\\b', '', text)\n",
    "    text = re.sub(r'\\b\\d+\\b', '', text)\n",
    "    text = re.sub(r'\\s{2,}', ' ', text)\n",
    "    text = re.sub(r'•\\t', '', text)\n",
    "    return text.strip()"
   ]
  },
  {
   "cell_type": "code",
   "execution_count": 37,
   "metadata": {},
   "outputs": [],
   "source": [
    "df['cleaned_txt'] = df['raw_txt_l'].apply(clean)"
   ]
  },
  {
   "cell_type": "code",
   "execution_count": 38,
   "metadata": {},
   "outputs": [],
   "source": [
    "df['len_text'] = df['cleaned_txt'].apply(lambda x: len(x.split()))"
   ]
  },
  {
   "cell_type": "code",
   "execution_count": 39,
   "metadata": {},
   "outputs": [
    {
     "data": {
      "text/plain": [
       "count     742.000000\n",
       "mean      875.175202\n",
       "std       608.424868\n",
       "min       107.000000\n",
       "25%       481.000000\n",
       "50%       707.000000\n",
       "75%      1081.250000\n",
       "max      5508.000000\n",
       "Name: len_text, dtype: float64"
      ]
     },
     "execution_count": 39,
     "metadata": {},
     "output_type": "execute_result"
    }
   ],
   "source": [
    "# sprawdzam jak długi jest tekst i czy czegoś nie ucięło, wyrywkowo\n",
    "df['len_text'].describe()"
   ]
  },
  {
   "cell_type": "code",
   "execution_count": 40,
   "metadata": {},
   "outputs": [],
   "source": [
    "df=df[df['len_text']>300]"
   ]
  },
  {
   "cell_type": "code",
   "execution_count": 58,
   "metadata": {},
   "outputs": [],
   "source": [
    "di={'Sunday Life':'','News':'','The Irish News':'','ENGLISCH':'','The Irish Times':'','IRTI':'','Dokument':'','The Sunday Independent':'','FSII':'','Independent Newspapers Ireland Ltd':'',\n",
    "    'SUNLIF':'','Independent News & Media (Northern Ireland)':'','Belfast Telegraph':'','WBEL':'','Englisch':'','©':'','Independent papers Ireland Ltd':''}\n",
    "df['cleaned_txt'] = df['cleaned_txt'].replace(di, regex=True)"
   ]
  },
  {
   "cell_type": "code",
   "execution_count": 59,
   "metadata": {},
   "outputs": [],
   "source": [
    "df=df.reset_index(drop=True)"
   ]
  },
  {
   "cell_type": "code",
   "execution_count": 65,
   "metadata": {},
   "outputs": [
    {
     "data": {
      "text/plain": [
       "' Saudi princes detained amid coup allegations Daniel Wallis Wörter März   National    SAUDI Arabia has detained three senior Saudi princes including the younger brother of King Salman and the kings nephew for allegedly planning a coup sources with knowledge of the matter said Crown Prince Mohammed bin Salman King Salmans son and de facto ruler of the worlds top oil exporter and key US ally has moved to consolidate power since ousting Mohammed bin Nayef as heir to the throne in a palace coup Later that year Crown Prince Mohammed bin Salman known as MbS arrested several royals and other prominent Saudis holding them for months at Riyadhs Ritz Carlton hotel in an anticorruption campaign that caused shockwaves at home and abroad Sources told reporters that MbS accused the princes of conducting contacts with foreign powers including the Americans and others to carry out a coup detat the regional source said With these arrests MbS consolidated his full grip on power Its over with this purge the source said adding that the princes were accused of treason The Saudi government media office did not comment on the detentions which were first reported by The Wall Street Journal The regional source said King Salman had approved the latest detentions adding that the king is in a mental and physically sound state The MbS has fuelled resentment among some branches of the ruling family by tightening his grip on power Some critics have questioned his ability to lead after the murder of journalist Jamal Khashoggi by Saudi agents and the largestever attack on Saudi oil infrastructure last year sources have said MbS has staunch supporters within the royal Al Saud family which numbers around members The latest detentions come at a time of heightened tensions with Iran and as the crown prince implements economic reforms including an initial public offering by oil giant Saudi Aramco The crown prince has been lauded at home for easing social restrictions in the conservative Muslim kingdom and trying to diversify the economy away from oil But he has come under international criticism over a devastating war in Yemen the murder of Jamal Khashoggi and the widespread detention of womens rights activists seen as part of a crackdown on dissent Reuters '"
      ]
     },
     "execution_count": 65,
     "metadata": {},
     "output_type": "execute_result"
    }
   ],
   "source": [
    "df['cleaned_txt'][0]"
   ]
  },
  {
   "cell_type": "code",
   "execution_count": 66,
   "metadata": {},
   "outputs": [],
   "source": [
    "possible_words = ['pandemic', 'COVID', 'covid','COVID-19','covid-19']\n",
    "\n",
    "df = df[df['cleaned_txt'].str.contains('|'.join(possible_words))]"
   ]
  },
  {
   "cell_type": "code",
   "execution_count": 69,
   "metadata": {},
   "outputs": [],
   "source": [
    "df=df[['f_name','cleaned_txt']]"
   ]
  },
  {
   "cell_type": "code",
   "execution_count": 70,
   "metadata": {},
   "outputs": [],
   "source": [
    "df.to_csv('../data/clean/sec_irl_clean.csv')"
   ]
  },
  {
   "cell_type": "code",
   "execution_count": 67,
   "metadata": {},
   "outputs": [
    {
     "data": {
      "text/html": [
       "<div>\n",
       "<style scoped>\n",
       "    .dataframe tbody tr th:only-of-type {\n",
       "        vertical-align: middle;\n",
       "    }\n",
       "\n",
       "    .dataframe tbody tr th {\n",
       "        vertical-align: top;\n",
       "    }\n",
       "\n",
       "    .dataframe thead th {\n",
       "        text-align: right;\n",
       "    }\n",
       "</style>\n",
       "<table border=\"1\" class=\"dataframe\">\n",
       "  <thead>\n",
       "    <tr style=\"text-align: right;\">\n",
       "      <th></th>\n",
       "      <th>f_name</th>\n",
       "      <th>raw_txt</th>\n",
       "      <th>raw_txt_l</th>\n",
       "      <th>cleaned_txt</th>\n",
       "      <th>len_text</th>\n",
       "    </tr>\n",
       "  </thead>\n",
       "  <tbody>\n",
       "    <tr>\n",
       "      <th>1</th>\n",
       "      <td>../data/sec_IRL/Sunday Independent/Factiva-202...</td>\n",
       "      <td>\\n\\n\\nNews\\nSaudi princes detained amid coup ...</td>\n",
       "      <td>News\\nWe should learn a sense [...]\\n\\n1,192 W...</td>\n",
       "      <td>We should learn a sense Wörter März   Nationa...</td>\n",
       "      <td>1167</td>\n",
       "    </tr>\n",
       "    <tr>\n",
       "      <th>3</th>\n",
       "      <td>../data/sec_IRL/Sunday Independent/Factiva-202...</td>\n",
       "      <td>\\n\\n\\nNews\\nSaudi princes detained amid coup ...</td>\n",
       "      <td>News\\nPERSONAL PRIVACY: SACRIFICED ON THE ALTA...</td>\n",
       "      <td>PERSONAL PRIVACY SACRIFICED ON THE ALTAR OF P...</td>\n",
       "      <td>1679</td>\n",
       "    </tr>\n",
       "    <tr>\n",
       "      <th>4</th>\n",
       "      <td>../data/sec_IRL/Sunday Independent/Factiva-202...</td>\n",
       "      <td>\\n\\n\\nNews\\nSaudi princes detained amid coup ...</td>\n",
       "      <td>News\\nA tale of two brothers United after 80 y...</td>\n",
       "      <td>A tale of two brothers United after years and...</td>\n",
       "      <td>1116</td>\n",
       "    </tr>\n",
       "    <tr>\n",
       "      <th>5</th>\n",
       "      <td>../data/sec_IRL/Sunday Independent/Factiva-202...</td>\n",
       "      <td>\\n\\n\\nNews\\nSaudi princes detained amid coup ...</td>\n",
       "      <td>News\\nThe 'selfless' doctor who always put oth...</td>\n",
       "      <td>The selfless doctor who always put others fir...</td>\n",
       "      <td>929</td>\n",
       "    </tr>\n",
       "    <tr>\n",
       "      <th>8</th>\n",
       "      <td>../data/sec_IRL/Sunday Independent/Factiva-202...</td>\n",
       "      <td>\\n\\n\\nNews\\nSaudi princes detained amid coup ...</td>\n",
       "      <td>News\\nIt's very sad there's unrest in the worl...</td>\n",
       "      <td>Its very sad theres unrest in the world becau...</td>\n",
       "      <td>1711</td>\n",
       "    </tr>\n",
       "    <tr>\n",
       "      <th>...</th>\n",
       "      <td>...</td>\n",
       "      <td>...</td>\n",
       "      <td>...</td>\n",
       "      <td>...</td>\n",
       "      <td>...</td>\n",
       "    </tr>\n",
       "    <tr>\n",
       "      <th>684</th>\n",
       "      <td>../data/sec_IRL/Belfast Telegraph/Factiva-2023...</td>\n",
       "      <td>\\n\\n\\nFeatures\\n'During the  Covid -19 crisis...</td>\n",
       "      <td>News\\nClergy in NI may fail Prince Philip's se...</td>\n",
       "      <td>Clergy in NI may fail Prince Philips sermon t...</td>\n",
       "      <td>1150</td>\n",
       "    </tr>\n",
       "    <tr>\n",
       "      <th>687</th>\n",
       "      <td>../data/sec_IRL/Belfast Telegraph/Factiva-2023...</td>\n",
       "      <td>\\n\\n\\nNews\\n'God is not a killjoy, but if He ...</td>\n",
       "      <td>News\\nKey events that played a role in the phe...</td>\n",
       "      <td>Key events that played a role in the phenomen...</td>\n",
       "      <td>839</td>\n",
       "    </tr>\n",
       "    <tr>\n",
       "      <th>688</th>\n",
       "      <td>../data/sec_IRL/Belfast Telegraph/Factiva-2023...</td>\n",
       "      <td>\\n\\n\\nNews\\n'God is not a killjoy, but if He ...</td>\n",
       "      <td>News\\nGroup targeted by racists puts city base...</td>\n",
       "      <td>Group targeted by racists puts city base up f...</td>\n",
       "      <td>368</td>\n",
       "    </tr>\n",
       "    <tr>\n",
       "      <th>689</th>\n",
       "      <td>../data/sec_IRL/Belfast Telegraph/Factiva-2023...</td>\n",
       "      <td>\\n\\n\\nNews\\n'God is not a killjoy, but if He ...</td>\n",
       "      <td>News; Teasers\\n'The Gospel remains as relevant...</td>\n",
       "      <td>Teasers The Gospel remains as relevant as eve...</td>\n",
       "      <td>1184</td>\n",
       "    </tr>\n",
       "    <tr>\n",
       "      <th>690</th>\n",
       "      <td>../data/sec_IRL/Belfast Telegraph/Factiva-2023...</td>\n",
       "      <td>\\n\\n\\nNews\\n'God is not a killjoy, but if He ...</td>\n",
       "      <td>News\\nSisters'line in artful Jammie Dodgers\\n\\...</td>\n",
       "      <td>Sistersline in artful Jammie Dodgers Stephani...</td>\n",
       "      <td>1193</td>\n",
       "    </tr>\n",
       "  </tbody>\n",
       "</table>\n",
       "<p>402 rows × 5 columns</p>\n",
       "</div>"
      ],
      "text/plain": [
       "                                                f_name  \\\n",
       "1    ../data/sec_IRL/Sunday Independent/Factiva-202...   \n",
       "3    ../data/sec_IRL/Sunday Independent/Factiva-202...   \n",
       "4    ../data/sec_IRL/Sunday Independent/Factiva-202...   \n",
       "5    ../data/sec_IRL/Sunday Independent/Factiva-202...   \n",
       "8    ../data/sec_IRL/Sunday Independent/Factiva-202...   \n",
       "..                                                 ...   \n",
       "684  ../data/sec_IRL/Belfast Telegraph/Factiva-2023...   \n",
       "687  ../data/sec_IRL/Belfast Telegraph/Factiva-2023...   \n",
       "688  ../data/sec_IRL/Belfast Telegraph/Factiva-2023...   \n",
       "689  ../data/sec_IRL/Belfast Telegraph/Factiva-2023...   \n",
       "690  ../data/sec_IRL/Belfast Telegraph/Factiva-2023...   \n",
       "\n",
       "                                               raw_txt  \\\n",
       "1     \\n\\n\\nNews\\nSaudi princes detained amid coup ...   \n",
       "3     \\n\\n\\nNews\\nSaudi princes detained amid coup ...   \n",
       "4     \\n\\n\\nNews\\nSaudi princes detained amid coup ...   \n",
       "5     \\n\\n\\nNews\\nSaudi princes detained amid coup ...   \n",
       "8     \\n\\n\\nNews\\nSaudi princes detained amid coup ...   \n",
       "..                                                 ...   \n",
       "684   \\n\\n\\nFeatures\\n'During the  Covid -19 crisis...   \n",
       "687   \\n\\n\\nNews\\n'God is not a killjoy, but if He ...   \n",
       "688   \\n\\n\\nNews\\n'God is not a killjoy, but if He ...   \n",
       "689   \\n\\n\\nNews\\n'God is not a killjoy, but if He ...   \n",
       "690   \\n\\n\\nNews\\n'God is not a killjoy, but if He ...   \n",
       "\n",
       "                                             raw_txt_l  \\\n",
       "1    News\\nWe should learn a sense [...]\\n\\n1,192 W...   \n",
       "3    News\\nPERSONAL PRIVACY: SACRIFICED ON THE ALTA...   \n",
       "4    News\\nA tale of two brothers United after 80 y...   \n",
       "5    News\\nThe 'selfless' doctor who always put oth...   \n",
       "8    News\\nIt's very sad there's unrest in the worl...   \n",
       "..                                                 ...   \n",
       "684  News\\nClergy in NI may fail Prince Philip's se...   \n",
       "687  News\\nKey events that played a role in the phe...   \n",
       "688  News\\nGroup targeted by racists puts city base...   \n",
       "689  News; Teasers\\n'The Gospel remains as relevant...   \n",
       "690  News\\nSisters'line in artful Jammie Dodgers\\n\\...   \n",
       "\n",
       "                                           cleaned_txt  len_text  \n",
       "1     We should learn a sense Wörter März   Nationa...      1167  \n",
       "3     PERSONAL PRIVACY SACRIFICED ON THE ALTAR OF P...      1679  \n",
       "4     A tale of two brothers United after years and...      1116  \n",
       "5     The selfless doctor who always put others fir...       929  \n",
       "8     Its very sad theres unrest in the world becau...      1711  \n",
       "..                                                 ...       ...  \n",
       "684   Clergy in NI may fail Prince Philips sermon t...      1150  \n",
       "687   Key events that played a role in the phenomen...       839  \n",
       "688   Group targeted by racists puts city base up f...       368  \n",
       "689   Teasers The Gospel remains as relevant as eve...      1184  \n",
       "690   Sistersline in artful Jammie Dodgers Stephani...      1193  \n",
       "\n",
       "[402 rows x 5 columns]"
      ]
     },
     "execution_count": 67,
     "metadata": {},
     "output_type": "execute_result"
    }
   ],
   "source": [
    "df"
   ]
  },
  {
   "cell_type": "code",
   "execution_count": null,
   "metadata": {},
   "outputs": [],
   "source": []
  }
 ],
 "metadata": {
  "kernelspec": {
   "display_name": "Python 3 (ipykernel)",
   "language": "python",
   "name": "python3"
  },
  "language_info": {
   "codemirror_mode": {
    "name": "ipython",
    "version": 3
   },
   "file_extension": ".py",
   "mimetype": "text/x-python",
   "name": "python",
   "nbconvert_exporter": "python",
   "pygments_lexer": "ipython3",
   "version": "3.11.5"
  }
 },
 "nbformat": 4,
 "nbformat_minor": 4
}
