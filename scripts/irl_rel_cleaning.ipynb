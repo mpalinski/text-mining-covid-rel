{
 "cells": [
  {
   "cell_type": "markdown",
   "metadata": {},
   "source": [
    "# Preprocessing "
   ]
  },
  {
   "cell_type": "code",
   "execution_count": 35,
   "metadata": {},
   "outputs": [],
   "source": [
    "import docx\n",
    "import pandas as pd\n",
    "import glob\n",
    "import os\n",
    "from pathlib import Path\n",
    "import re\n",
    "import pickle\n",
    "import string\n",
    "import numpy as np\n",
    "# pip install germalemma"
   ]
  },
  {
   "cell_type": "markdown",
   "metadata": {},
   "source": [
    "## Loading files into the df and extracting the names and year"
   ]
  },
  {
   "cell_type": "code",
   "execution_count": 48,
   "metadata": {},
   "outputs": [],
   "source": [
    "dir_path = \"../data/rel_IRL/\"\n",
    "\n",
    "def get_docx_files(dir_path):\n",
    "    docx_files = []\n",
    "    \n",
    "    for root, _, files in os.walk(dir_path):\n",
    "        for f in files:\n",
    "            if f.endswith('.docx'):\n",
    "                docx_files.append(os.path.join(root, f))\n",
    "    \n",
    "    return docx_files\n",
    "\n",
    "docx_files = get_docx_files(dir_path)\n",
    "\n",
    "data = []\n",
    "\n",
    "for file in docx_files:\n",
    "    doc = docx.Document(file)\n",
    "    article = \"\"  # Store the content of the current article\n",
    "    for para in doc.paragraphs:\n",
    "        if para.text.strip().startswith(\"Date of publication\"):\n",
    "            if article:  # Append the previous article\n",
    "                data.append([file, article.strip()])\n",
    "                article = \"\"  # Reset the article content\n",
    "        article += para.text.strip() + ' '  # Add paragraph to the current article\n",
    "    if article:  # Append the last article in the file\n",
    "        data.append([file, article.strip()])\n",
    "\n",
    "df = pd.DataFrame(data, columns=['file_name', 'article'])"
   ]
  },
  {
   "cell_type": "code",
   "execution_count": 49,
   "metadata": {},
   "outputs": [
    {
     "data": {
      "text/html": [
       "<div>\n",
       "<style scoped>\n",
       "    .dataframe tbody tr th:only-of-type {\n",
       "        vertical-align: middle;\n",
       "    }\n",
       "\n",
       "    .dataframe tbody tr th {\n",
       "        vertical-align: top;\n",
       "    }\n",
       "\n",
       "    .dataframe thead th {\n",
       "        text-align: right;\n",
       "    }\n",
       "</style>\n",
       "<table border=\"1\" class=\"dataframe\">\n",
       "  <thead>\n",
       "    <tr style=\"text-align: right;\">\n",
       "      <th></th>\n",
       "      <th>file_name</th>\n",
       "      <th>article</th>\n",
       "    </tr>\n",
       "  </thead>\n",
       "  <tbody>\n",
       "    <tr>\n",
       "      <th>0</th>\n",
       "      <td>../data/rel_IRL/Irish Catholic Definite.docx</td>\n",
       "      <td>Date of publication: 05/03/20 Link: Title: Chu...</td>\n",
       "    </tr>\n",
       "    <tr>\n",
       "      <th>1</th>\n",
       "      <td>../data/rel_IRL/Irish Catholic Definite.docx</td>\n",
       "      <td>Date of publication: 05/03/20 Link: Title: The...</td>\n",
       "    </tr>\n",
       "    <tr>\n",
       "      <th>2</th>\n",
       "      <td>../data/rel_IRL/Irish Catholic Definite.docx</td>\n",
       "      <td>Date of publication: 05/03/20 Link: Title: Are...</td>\n",
       "    </tr>\n",
       "    <tr>\n",
       "      <th>3</th>\n",
       "      <td>../data/rel_IRL/Irish Catholic Definite.docx</td>\n",
       "      <td>Date of publication: 05/03/20 Link: Title: Toy...</td>\n",
       "    </tr>\n",
       "    <tr>\n",
       "      <th>4</th>\n",
       "      <td>../data/rel_IRL/Irish Catholic Definite.docx</td>\n",
       "      <td>Date of publication: 05/03/20 Link: Title: Chu...</td>\n",
       "    </tr>\n",
       "    <tr>\n",
       "      <th>...</th>\n",
       "      <td>...</td>\n",
       "      <td>...</td>\n",
       "    </tr>\n",
       "    <tr>\n",
       "      <th>639</th>\n",
       "      <td>../data/rel_IRL/All Protestant Documents.docx</td>\n",
       "      <td>Date of publication: 01/01/22 Link: Title: The...</td>\n",
       "    </tr>\n",
       "    <tr>\n",
       "      <th>640</th>\n",
       "      <td>../data/rel_IRL/All Protestant Documents.docx</td>\n",
       "      <td>Date of publication: 01/01/22 Link: Title: Our...</td>\n",
       "    </tr>\n",
       "    <tr>\n",
       "      <th>641</th>\n",
       "      <td>../data/rel_IRL/All Protestant Documents.docx</td>\n",
       "      <td>Date of publication: 01/02/22 Link: Title: 202...</td>\n",
       "    </tr>\n",
       "    <tr>\n",
       "      <th>642</th>\n",
       "      <td>../data/rel_IRL/All Protestant Documents.docx</td>\n",
       "      <td>Date of publication: 01/03/22 Link: Title: Lif...</td>\n",
       "    </tr>\n",
       "    <tr>\n",
       "      <th>643</th>\n",
       "      <td>../data/rel_IRL/All Protestant Documents.docx</td>\n",
       "      <td>Date of publication: 01/07/22 Link: Title: Mem...</td>\n",
       "    </tr>\n",
       "  </tbody>\n",
       "</table>\n",
       "<p>644 rows × 2 columns</p>\n",
       "</div>"
      ],
      "text/plain": [
       "                                         file_name  \\\n",
       "0     ../data/rel_IRL/Irish Catholic Definite.docx   \n",
       "1     ../data/rel_IRL/Irish Catholic Definite.docx   \n",
       "2     ../data/rel_IRL/Irish Catholic Definite.docx   \n",
       "3     ../data/rel_IRL/Irish Catholic Definite.docx   \n",
       "4     ../data/rel_IRL/Irish Catholic Definite.docx   \n",
       "..                                             ...   \n",
       "639  ../data/rel_IRL/All Protestant Documents.docx   \n",
       "640  ../data/rel_IRL/All Protestant Documents.docx   \n",
       "641  ../data/rel_IRL/All Protestant Documents.docx   \n",
       "642  ../data/rel_IRL/All Protestant Documents.docx   \n",
       "643  ../data/rel_IRL/All Protestant Documents.docx   \n",
       "\n",
       "                                               article  \n",
       "0    Date of publication: 05/03/20 Link: Title: Chu...  \n",
       "1    Date of publication: 05/03/20 Link: Title: The...  \n",
       "2    Date of publication: 05/03/20 Link: Title: Are...  \n",
       "3    Date of publication: 05/03/20 Link: Title: Toy...  \n",
       "4    Date of publication: 05/03/20 Link: Title: Chu...  \n",
       "..                                                 ...  \n",
       "639  Date of publication: 01/01/22 Link: Title: The...  \n",
       "640  Date of publication: 01/01/22 Link: Title: Our...  \n",
       "641  Date of publication: 01/02/22 Link: Title: 202...  \n",
       "642  Date of publication: 01/03/22 Link: Title: Lif...  \n",
       "643  Date of publication: 01/07/22 Link: Title: Mem...  \n",
       "\n",
       "[644 rows x 2 columns]"
      ]
     },
     "execution_count": 49,
     "metadata": {},
     "output_type": "execute_result"
    }
   ],
   "source": [
    "df"
   ]
  },
  {
   "cell_type": "code",
   "execution_count": null,
   "metadata": {},
   "outputs": [],
   "source": []
  },
  {
   "cell_type": "code",
   "execution_count": null,
   "metadata": {},
   "outputs": [],
   "source": []
  },
  {
   "cell_type": "code",
   "execution_count": 15,
   "metadata": {},
   "outputs": [],
   "source": [
    "# df['date']=df['f_name'].apply(lambda x: x.split('/')[3])\n",
    "# df['date']=df['date'].str[:7]\n",
    "# df['year']=df['date'].str[:4]"
   ]
  },
  {
   "cell_type": "code",
   "execution_count": 51,
   "metadata": {},
   "outputs": [],
   "source": [
    "# Function to extract text after \"Text of Article:\"\n",
    "def extract_article_text(text):\n",
    "    article_marker = \"Text of article:\"\n",
    "    article_index = text.find(article_marker)\n",
    "    if article_index != -1:\n",
    "        return text[article_index + len(article_marker):].strip()\n",
    "    else:\n",
    "        return text\n",
    "\n",
    "# Apply the function to create the new column\n",
    "df['txt_1'] = df['article'].apply(extract_article_text)"
   ]
  },
  {
   "cell_type": "code",
   "execution_count": 52,
   "metadata": {},
   "outputs": [
    {
     "data": {
      "text/html": [
       "<div>\n",
       "<style scoped>\n",
       "    .dataframe tbody tr th:only-of-type {\n",
       "        vertical-align: middle;\n",
       "    }\n",
       "\n",
       "    .dataframe tbody tr th {\n",
       "        vertical-align: top;\n",
       "    }\n",
       "\n",
       "    .dataframe thead th {\n",
       "        text-align: right;\n",
       "    }\n",
       "</style>\n",
       "<table border=\"1\" class=\"dataframe\">\n",
       "  <thead>\n",
       "    <tr style=\"text-align: right;\">\n",
       "      <th></th>\n",
       "      <th>file_name</th>\n",
       "      <th>article</th>\n",
       "      <th>txt_1</th>\n",
       "    </tr>\n",
       "  </thead>\n",
       "  <tbody>\n",
       "  </tbody>\n",
       "</table>\n",
       "</div>"
      ],
      "text/plain": [
       "Empty DataFrame\n",
       "Columns: [file_name, article, txt_1]\n",
       "Index: []"
      ]
     },
     "execution_count": 52,
     "metadata": {},
     "output_type": "execute_result"
    }
   ],
   "source": [
    "df[df['txt_1'].isna()]"
   ]
  },
  {
   "cell_type": "code",
   "execution_count": 53,
   "metadata": {},
   "outputs": [
    {
     "data": {
      "text/html": [
       "<div>\n",
       "<style scoped>\n",
       "    .dataframe tbody tr th:only-of-type {\n",
       "        vertical-align: middle;\n",
       "    }\n",
       "\n",
       "    .dataframe tbody tr th {\n",
       "        vertical-align: top;\n",
       "    }\n",
       "\n",
       "    .dataframe thead th {\n",
       "        text-align: right;\n",
       "    }\n",
       "</style>\n",
       "<table border=\"1\" class=\"dataframe\">\n",
       "  <thead>\n",
       "    <tr style=\"text-align: right;\">\n",
       "      <th></th>\n",
       "      <th>file_name</th>\n",
       "      <th>article</th>\n",
       "      <th>txt_1</th>\n",
       "    </tr>\n",
       "  </thead>\n",
       "  <tbody>\n",
       "    <tr>\n",
       "      <th>0</th>\n",
       "      <td>../data/rel_IRL/Irish Catholic Definite.docx</td>\n",
       "      <td>Date of publication: 05/03/20 Link: Title: Chu...</td>\n",
       "      <td>A social media poll of over 700 people conduct...</td>\n",
       "    </tr>\n",
       "    <tr>\n",
       "      <th>1</th>\n",
       "      <td>../data/rel_IRL/Irish Catholic Definite.docx</td>\n",
       "      <td>Date of publication: 05/03/20 Link: Title: The...</td>\n",
       "      <td>How should the Catholic Church respond when a ...</td>\n",
       "    </tr>\n",
       "    <tr>\n",
       "      <th>2</th>\n",
       "      <td>../data/rel_IRL/Irish Catholic Definite.docx</td>\n",
       "      <td>Date of publication: 05/03/20 Link: Title: Are...</td>\n",
       "      <td>My inclinations are to regard the hullaballoo ...</td>\n",
       "    </tr>\n",
       "    <tr>\n",
       "      <th>3</th>\n",
       "      <td>../data/rel_IRL/Irish Catholic Definite.docx</td>\n",
       "      <td>Date of publication: 05/03/20 Link: Title: Toy...</td>\n",
       "      <td>The Tokyo archdiocese has suspended all public...</td>\n",
       "    </tr>\n",
       "    <tr>\n",
       "      <th>4</th>\n",
       "      <td>../data/rel_IRL/Irish Catholic Definite.docx</td>\n",
       "      <td>Date of publication: 05/03/20 Link: Title: Chu...</td>\n",
       "      <td>Irish bishops say they are poised to take radi...</td>\n",
       "    </tr>\n",
       "    <tr>\n",
       "      <th>...</th>\n",
       "      <td>...</td>\n",
       "      <td>...</td>\n",
       "      <td>...</td>\n",
       "    </tr>\n",
       "    <tr>\n",
       "      <th>639</th>\n",
       "      <td>../data/rel_IRL/All Protestant Documents.docx</td>\n",
       "      <td>Date of publication: 01/01/22 Link: Title: The...</td>\n",
       "      <td>20 January 2022 The Irish Catholic, Ruadhán Jo...</td>\n",
       "    </tr>\n",
       "    <tr>\n",
       "      <th>640</th>\n",
       "      <td>../data/rel_IRL/All Protestant Documents.docx</td>\n",
       "      <td>Date of publication: 01/01/22 Link: Title: Our...</td>\n",
       "      <td>At Conference 2021 the Ambassadors shared in t...</td>\n",
       "    </tr>\n",
       "    <tr>\n",
       "      <th>641</th>\n",
       "      <td>../data/rel_IRL/All Protestant Documents.docx</td>\n",
       "      <td>Date of publication: 01/02/22 Link: Title: 202...</td>\n",
       "      <td>Like many in recent days, I have been consider...</td>\n",
       "    </tr>\n",
       "    <tr>\n",
       "      <th>642</th>\n",
       "      <td>../data/rel_IRL/All Protestant Documents.docx</td>\n",
       "      <td>Date of publication: 01/03/22 Link: Title: Lif...</td>\n",
       "      <td>Over the last 18 months something extremely si...</td>\n",
       "    </tr>\n",
       "    <tr>\n",
       "      <th>643</th>\n",
       "      <td>../data/rel_IRL/All Protestant Documents.docx</td>\n",
       "      <td>Date of publication: 01/07/22 Link: Title: Mem...</td>\n",
       "      <td>On Sunday 22 May, Finaghy Methodist Church in ...</td>\n",
       "    </tr>\n",
       "  </tbody>\n",
       "</table>\n",
       "<p>644 rows × 3 columns</p>\n",
       "</div>"
      ],
      "text/plain": [
       "                                         file_name  \\\n",
       "0     ../data/rel_IRL/Irish Catholic Definite.docx   \n",
       "1     ../data/rel_IRL/Irish Catholic Definite.docx   \n",
       "2     ../data/rel_IRL/Irish Catholic Definite.docx   \n",
       "3     ../data/rel_IRL/Irish Catholic Definite.docx   \n",
       "4     ../data/rel_IRL/Irish Catholic Definite.docx   \n",
       "..                                             ...   \n",
       "639  ../data/rel_IRL/All Protestant Documents.docx   \n",
       "640  ../data/rel_IRL/All Protestant Documents.docx   \n",
       "641  ../data/rel_IRL/All Protestant Documents.docx   \n",
       "642  ../data/rel_IRL/All Protestant Documents.docx   \n",
       "643  ../data/rel_IRL/All Protestant Documents.docx   \n",
       "\n",
       "                                               article  \\\n",
       "0    Date of publication: 05/03/20 Link: Title: Chu...   \n",
       "1    Date of publication: 05/03/20 Link: Title: The...   \n",
       "2    Date of publication: 05/03/20 Link: Title: Are...   \n",
       "3    Date of publication: 05/03/20 Link: Title: Toy...   \n",
       "4    Date of publication: 05/03/20 Link: Title: Chu...   \n",
       "..                                                 ...   \n",
       "639  Date of publication: 01/01/22 Link: Title: The...   \n",
       "640  Date of publication: 01/01/22 Link: Title: Our...   \n",
       "641  Date of publication: 01/02/22 Link: Title: 202...   \n",
       "642  Date of publication: 01/03/22 Link: Title: Lif...   \n",
       "643  Date of publication: 01/07/22 Link: Title: Mem...   \n",
       "\n",
       "                                                 txt_1  \n",
       "0    A social media poll of over 700 people conduct...  \n",
       "1    How should the Catholic Church respond when a ...  \n",
       "2    My inclinations are to regard the hullaballoo ...  \n",
       "3    The Tokyo archdiocese has suspended all public...  \n",
       "4    Irish bishops say they are poised to take radi...  \n",
       "..                                                 ...  \n",
       "639  20 January 2022 The Irish Catholic, Ruadhán Jo...  \n",
       "640  At Conference 2021 the Ambassadors shared in t...  \n",
       "641  Like many in recent days, I have been consider...  \n",
       "642  Over the last 18 months something extremely si...  \n",
       "643  On Sunday 22 May, Finaghy Methodist Church in ...  \n",
       "\n",
       "[644 rows x 3 columns]"
      ]
     },
     "execution_count": 53,
     "metadata": {},
     "output_type": "execute_result"
    }
   ],
   "source": [
    "df"
   ]
  },
  {
   "cell_type": "markdown",
   "metadata": {},
   "source": [
    "## text cleaning"
   ]
  },
  {
   "cell_type": "code",
   "execution_count": 54,
   "metadata": {},
   "outputs": [],
   "source": [
    "def clean(text):\n",
    "    text = re.sub(\"http\\S+|www\\S+|fb.com\\S+|programm.ard.de\\S+\", '', text)\n",
    "    text = ''.join([char for char in text if char not in '–!\"#$%&\\'()*+,-./:;<=>?@[\\\\]^_`{|}~“”·‘'])\n",
    "    text = re.sub('\\n',' ',text)\n",
    "    text = re.sub('‹|›|„','',text)\n",
    "    text = re.sub(r'\\b\\d+\\b\\s*$', '', text)\n",
    "    text = re.sub(r'\\b\\w*\\d+\\w*\\b', '', text)\n",
    "    text = re.sub(r'\\b\\d+\\b', '', text)\n",
    "    text = re.sub(r'\\s{2,}', ' ', text)\n",
    "    text = re.sub(r'•\\t', '', text)\n",
    "    return text.strip()"
   ]
  },
  {
   "cell_type": "code",
   "execution_count": 55,
   "metadata": {},
   "outputs": [],
   "source": [
    "df['cleaned_txt'] = df['txt_1'].apply(clean)"
   ]
  },
  {
   "cell_type": "code",
   "execution_count": 56,
   "metadata": {},
   "outputs": [],
   "source": [
    "df['len_text'] = df['txt_1'].apply(lambda x: len(x.split()))"
   ]
  },
  {
   "cell_type": "code",
   "execution_count": 57,
   "metadata": {},
   "outputs": [
    {
     "data": {
      "text/plain": [
       "count     644.000000\n",
       "mean      661.686335\n",
       "std       508.711678\n",
       "min        78.000000\n",
       "25%       313.750000\n",
       "50%       534.500000\n",
       "75%       850.250000\n",
       "max      4302.000000\n",
       "Name: len_text, dtype: float64"
      ]
     },
     "execution_count": 57,
     "metadata": {},
     "output_type": "execute_result"
    }
   ],
   "source": [
    "# sprawdzam jak długi jest tekst i czy czegoś nie ucięło, wyrywkowo\n",
    "df['len_text'].describe()"
   ]
  },
  {
   "cell_type": "code",
   "execution_count": 58,
   "metadata": {},
   "outputs": [
    {
     "name": "stdout",
     "output_type": "stream",
     "text": [
      "file_name                 ../data/rel_IRL/Muslim Newsletter.docx\n",
      "article        Date of publication: 03/03/20 Link: Title: Dep...\n",
      "txt_1          Here is the web link for the Department of Hea...\n",
      "cleaned_txt    Here is the web link for the Department of Hea...\n",
      "len_text                                                      78\n",
      "Name: 407, dtype: object\n"
     ]
    }
   ],
   "source": [
    "min_row = df.loc[df['len_text'].idxmin()]\n",
    "\n",
    "# Print the row\n",
    "print(min_row)"
   ]
  },
  {
   "cell_type": "markdown",
   "metadata": {},
   "source": [
    "## Klasyfikacja do denominacji"
   ]
  },
  {
   "cell_type": "code",
   "execution_count": 94,
   "metadata": {},
   "outputs": [],
   "source": [
    "dict = {\n",
    "        \"Bistum\" : 'Cath_Ch', \"BR\" : 'Cath_Ch', \"DBK\" : 'Cath_Ch', 'chrismon': 'Cath_Ch', 'katholisch.de': 'Cath_Ch',\n",
    "        \n",
    "        \"ELKB\" : 'Protest', \"EKD\" : 'Protest', \"EVLKS\" : 'Protest',\n",
    "\n",
    "        \"AGiD\" : 'Anthrop', \"Ant\" : 'Anthrop',\n",
    "\n",
    "        \"IRD\" : 'Muslim', \"KRM\" : 'Muslim', \"ZDM\" : 'Muslim', \"DITIB\" : 'Muslim', \"VIKZ\" : 'Muslim', \"IRD\" : 'Muslim', \"ZMD\" : 'Muslim', \"Islamrat\": 'Muslim', \"IslamischeZeitung\": \"IRD\"\n",
    "    }\n",
    "\n",
    "        "
   ]
  },
  {
   "cell_type": "code",
   "execution_count": 95,
   "metadata": {},
   "outputs": [],
   "source": [
    "for key, value in dict.items():\n",
    "    df.loc[df['f_name'].str.contains(key), 'Denomination'] = value\n"
   ]
  },
  {
   "cell_type": "code",
   "execution_count": 96,
   "metadata": {},
   "outputs": [
    {
     "data": {
      "text/html": [
       "<div>\n",
       "<style scoped>\n",
       "    .dataframe tbody tr th:only-of-type {\n",
       "        vertical-align: middle;\n",
       "    }\n",
       "\n",
       "    .dataframe tbody tr th {\n",
       "        vertical-align: top;\n",
       "    }\n",
       "\n",
       "    .dataframe thead th {\n",
       "        text-align: right;\n",
       "    }\n",
       "</style>\n",
       "<table border=\"1\" class=\"dataframe\">\n",
       "  <thead>\n",
       "    <tr style=\"text-align: right;\">\n",
       "      <th></th>\n",
       "      <th>date</th>\n",
       "      <th>year</th>\n",
       "      <th>f_name</th>\n",
       "      <th>raw_txt</th>\n",
       "      <th>txt_1</th>\n",
       "      <th>len_text</th>\n",
       "      <th>cleaned_txt</th>\n",
       "      <th>Denomination</th>\n",
       "    </tr>\n",
       "  </thead>\n",
       "  <tbody>\n",
       "  </tbody>\n",
       "</table>\n",
       "</div>"
      ],
      "text/plain": [
       "Empty DataFrame\n",
       "Columns: [date, year, f_name, raw_txt, txt_1, len_text, cleaned_txt, Denomination]\n",
       "Index: []"
      ]
     },
     "execution_count": 96,
     "metadata": {},
     "output_type": "execute_result"
    }
   ],
   "source": [
    "df[df['Denomination'].isna()]"
   ]
  },
  {
   "cell_type": "code",
   "execution_count": 31,
   "metadata": {},
   "outputs": [
    {
     "data": {
      "text/html": [
       "<div>\n",
       "<style scoped>\n",
       "    .dataframe tbody tr th:only-of-type {\n",
       "        vertical-align: middle;\n",
       "    }\n",
       "\n",
       "    .dataframe tbody tr th {\n",
       "        vertical-align: top;\n",
       "    }\n",
       "\n",
       "    .dataframe thead th {\n",
       "        text-align: right;\n",
       "    }\n",
       "</style>\n",
       "<table border=\"1\" class=\"dataframe\">\n",
       "  <thead>\n",
       "    <tr style=\"text-align: right;\">\n",
       "      <th></th>\n",
       "      <th>f_name</th>\n",
       "      <th>raw_txt</th>\n",
       "      <th>txt_1</th>\n",
       "      <th>cleaned_txt</th>\n",
       "      <th>len_text</th>\n",
       "    </tr>\n",
       "  </thead>\n",
       "  <tbody>\n",
       "    <tr>\n",
       "      <th>0</th>\n",
       "      <td>../data/rel_IRL/Irish Catholic Definite</td>\n",
       "      <td>Date of publication: 05/03/20 Link: Title: Chu...</td>\n",
       "      <td>A social media poll of over 700 people conduct...</td>\n",
       "      <td>A social media poll of over people conducted b...</td>\n",
       "      <td>275506</td>\n",
       "    </tr>\n",
       "    <tr>\n",
       "      <th>1</th>\n",
       "      <td>../data/rel_IRL/Muslim Newsletter</td>\n",
       "      <td>Date of publication: 28/02/20 Link: Title: HOW...</td>\n",
       "      <td>HOW TO KEEP SAFE IN LIGHT OF THE CORONAVIRUS I...</td>\n",
       "      <td>HOW TO KEEP SAFE IN LIGHT OF THE CORONAVIRUS I...</td>\n",
       "      <td>8349</td>\n",
       "    </tr>\n",
       "    <tr>\n",
       "      <th>2</th>\n",
       "      <td>../data/rel_IRL/Humanist Newsletter</td>\n",
       "      <td>Date of publication: 27/03/20 Link: Title: Onl...</td>\n",
       "      <td>Marking the death of someone is important, and...</td>\n",
       "      <td>Marking the death of someone is important and ...</td>\n",
       "      <td>4969</td>\n",
       "    </tr>\n",
       "    <tr>\n",
       "      <th>3</th>\n",
       "      <td>../data/rel_IRL/All Protestant Documents</td>\n",
       "      <td>Date of publication: 01/04/20 Link: Title: Iso...</td>\n",
       "      <td>What strange times indeed. Weeks ago, it would...</td>\n",
       "      <td>What strange times indeed Weeks ago it would h...</td>\n",
       "      <td>153216</td>\n",
       "    </tr>\n",
       "  </tbody>\n",
       "</table>\n",
       "</div>"
      ],
      "text/plain": [
       "                                     f_name  \\\n",
       "0   ../data/rel_IRL/Irish Catholic Definite   \n",
       "1         ../data/rel_IRL/Muslim Newsletter   \n",
       "2       ../data/rel_IRL/Humanist Newsletter   \n",
       "3  ../data/rel_IRL/All Protestant Documents   \n",
       "\n",
       "                                             raw_txt  \\\n",
       "0  Date of publication: 05/03/20 Link: Title: Chu...   \n",
       "1  Date of publication: 28/02/20 Link: Title: HOW...   \n",
       "2  Date of publication: 27/03/20 Link: Title: Onl...   \n",
       "3  Date of publication: 01/04/20 Link: Title: Iso...   \n",
       "\n",
       "                                               txt_1  \\\n",
       "0  A social media poll of over 700 people conduct...   \n",
       "1  HOW TO KEEP SAFE IN LIGHT OF THE CORONAVIRUS I...   \n",
       "2  Marking the death of someone is important, and...   \n",
       "3  What strange times indeed. Weeks ago, it would...   \n",
       "\n",
       "                                         cleaned_txt  len_text  \n",
       "0  A social media poll of over people conducted b...    275506  \n",
       "1  HOW TO KEEP SAFE IN LIGHT OF THE CORONAVIRUS I...      8349  \n",
       "2  Marking the death of someone is important and ...      4969  \n",
       "3  What strange times indeed Weeks ago it would h...    153216  "
      ]
     },
     "execution_count": 31,
     "metadata": {},
     "output_type": "execute_result"
    }
   ],
   "source": [
    "df"
   ]
  },
  {
   "cell_type": "code",
   "execution_count": 59,
   "metadata": {},
   "outputs": [],
   "source": [
    "df.to_csv('../data/clean/rel_irl_clean.csv')"
   ]
  },
  {
   "cell_type": "code",
   "execution_count": null,
   "metadata": {},
   "outputs": [],
   "source": []
  },
  {
   "cell_type": "code",
   "execution_count": 100,
   "metadata": {},
   "outputs": [],
   "source": [
    "# from germalemma import GermaLemma\n",
    "\n",
    "# lemmatizer = GermaLemma()\n",
    "\n",
    "# # passing the word and the POS tag (\"N\" for noun)\n",
    "# lemma = lemmatizer.find_lemma('Feinstaubbelastungen', 'N')\n",
    "# print(lemma)\n",
    "# # -> lemma is \"Feinstaubbelastung\""
   ]
  },
  {
   "cell_type": "code",
   "execution_count": null,
   "metadata": {},
   "outputs": [],
   "source": []
  }
 ],
 "metadata": {
  "kernelspec": {
   "display_name": "Python 3",
   "language": "python",
   "name": "python3"
  },
  "language_info": {
   "codemirror_mode": {
    "name": "ipython",
    "version": 3
   },
   "file_extension": ".py",
   "mimetype": "text/x-python",
   "name": "python",
   "nbconvert_exporter": "python",
   "pygments_lexer": "ipython3",
   "version": "3.7.15"
  }
 },
 "nbformat": 4,
 "nbformat_minor": 4
}
