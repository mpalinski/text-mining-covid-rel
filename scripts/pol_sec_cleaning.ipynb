{
 "cells": [
  {
   "cell_type": "markdown",
   "metadata": {},
   "source": [
    "# Preprocessing "
   ]
  },
  {
   "cell_type": "code",
   "execution_count": 1,
   "metadata": {},
   "outputs": [],
   "source": [
    "import pandas as pd\n",
    "import glob\n",
    "import os\n",
    "from pathlib import Path\n",
    "import re\n",
    "import pickle\n",
    "import string\n",
    "import numpy as np\n",
    "from striprtf.striprtf import rtf_to_text"
   ]
  },
  {
   "cell_type": "markdown",
   "metadata": {},
   "source": [
    "## Loading files into the Data Frame"
   ]
  },
  {
   "cell_type": "code",
   "execution_count": 18,
   "metadata": {},
   "outputs": [],
   "source": [
    "# Define the directory path where RTF files are located\n",
    "dir_path = \"../data/sec_POL/\"\n",
    "\n",
    "def get_docx_files(dir_path):\n",
    "    \"\"\"\n",
    "    Retrieves a list of RTF file paths within a specified directory and its subdirectories.\n",
    "\n",
    "    Parameters:\n",
    "    dir_path (str): The directory path to search for RTF files.\n",
    "\n",
    "    Returns:\n",
    "    list: A list of file paths to RTF files found within the directory and its subdirectories.\n",
    "    \"\"\"\n",
    "    docx_files = []\n",
    "    \n",
    "    for root, _, files in os.walk(dir_path):\n",
    "        for f in files:\n",
    "            if f.endswith('.rtf'):\n",
    "                docx_files.append(os.path.join(root, f))\n",
    "    \n",
    "    return docx_files\n",
    "\n",
    "# Get a list of RTF files in the specified directory and its subdirectories\n",
    "docx_files = get_docx_files(dir_path)\n",
    "\n",
    "# Create an empty list to store data extracted from the RTF files\n",
    "data = []\n",
    "\n",
    "# Iterate over all RTF files in the directory\n",
    "for filename in docx_files:\n",
    "    if filename.endswith(\".rtf\"):\n",
    "        with open(filename, 'rb') as file:\n",
    "            rtf_content = file.read().decode('utf-8')  # Decode binary content to string\n",
    "            \n",
    "            # Assuming you have a function rtf_to_text that converts RTF to plain text\n",
    "            rtf_text = rtf_to_text(rtf_content)\n",
    "            \n",
    "            # Append the filename (excluding the \".rtf\" extension) and the extracted text to the data list\n",
    "            data.append([filename[:-5], rtf_text])\n",
    "\n",
    "# Create a pandas DataFrame from the extracted data\n",
    "df = pd.DataFrame(data, columns=['f_name', 'raw_txt'])"
   ]
  },
  {
   "cell_type": "code",
   "execution_count": 19,
   "metadata": {},
   "outputs": [
    {
     "data": {
      "text/plain": [
       "12"
      ]
     },
     "execution_count": 19,
     "metadata": {},
     "output_type": "execute_result"
    }
   ],
   "source": [
    "len(df)"
   ]
  },
  {
   "cell_type": "code",
   "execution_count": 20,
   "metadata": {},
   "outputs": [],
   "source": [
    "df['raw_txt_l']=df['raw_txt'].apply(lambda x: x.split('\\n\\n\\n\\n\\n\\n'))"
   ]
  },
  {
   "cell_type": "code",
   "execution_count": 21,
   "metadata": {},
   "outputs": [],
   "source": [
    "df=df.explode('raw_txt_l')"
   ]
  },
  {
   "cell_type": "code",
   "execution_count": 22,
   "metadata": {},
   "outputs": [
    {
     "data": {
      "text/html": [
       "<div>\n",
       "<style scoped>\n",
       "    .dataframe tbody tr th:only-of-type {\n",
       "        vertical-align: middle;\n",
       "    }\n",
       "\n",
       "    .dataframe tbody tr th {\n",
       "        vertical-align: top;\n",
       "    }\n",
       "\n",
       "    .dataframe thead th {\n",
       "        text-align: right;\n",
       "    }\n",
       "</style>\n",
       "<table border=\"1\" class=\"dataframe\">\n",
       "  <thead>\n",
       "    <tr style=\"text-align: right;\">\n",
       "      <th></th>\n",
       "      <th>f_name</th>\n",
       "      <th>raw_txt</th>\n",
       "      <th>raw_txt_l</th>\n",
       "    </tr>\n",
       "  </thead>\n",
       "  <tbody>\n",
       "    <tr>\n",
       "      <th>0</th>\n",
       "      <td>../data/sec_POL/Fakt/Factiva-20230808-125</td>\n",
       "      <td>\\nKsiądz Janusz Koplewski (59 l.): Odwagi! Wi...</td>\n",
       "      <td>\\nKsiądz Janusz Koplewski (59 l.): Odwagi! Wi...</td>\n",
       "    </tr>\n",
       "    <tr>\n",
       "      <th>1</th>\n",
       "      <td>../data/sec_POL/Rzeczpospolita/Factiva-2023080...</td>\n",
       "      <td>\\n\\n\\nKraj bez Boga\\n\\n523 Wörter\\n8 Januar 2...</td>\n",
       "      <td>\\n\\n\\nKraj bez Boga\\n\\n523 Wörter\\n8 Januar 2...</td>\n",
       "    </tr>\n",
       "    <tr>\n",
       "      <th>1</th>\n",
       "      <td>../data/sec_POL/Rzeczpospolita/Factiva-2023080...</td>\n",
       "      <td>\\n\\n\\nKraj bez Boga\\n\\n523 Wörter\\n8 Januar 2...</td>\n",
       "      <td>Jaka Polska po rządach PiS?\\n\\n861 Wörter\\n12 ...</td>\n",
       "    </tr>\n",
       "    <tr>\n",
       "      <th>1</th>\n",
       "      <td>../data/sec_POL/Rzeczpospolita/Factiva-2023080...</td>\n",
       "      <td>\\n\\n\\nKraj bez Boga\\n\\n523 Wörter\\n8 Januar 2...</td>\n",
       "      <td>Watykan, Rosja, Chiny. W co naprawdę gra Franc...</td>\n",
       "    </tr>\n",
       "    <tr>\n",
       "      <th>1</th>\n",
       "      <td>../data/sec_POL/Rzeczpospolita/Factiva-2023080...</td>\n",
       "      <td>\\n\\n\\nKraj bez Boga\\n\\n523 Wörter\\n8 Januar 2...</td>\n",
       "      <td>Górski &amp; Cieślik: Dokąd jechać, dokąd nie i dl...</td>\n",
       "    </tr>\n",
       "    <tr>\n",
       "      <th>...</th>\n",
       "      <td>...</td>\n",
       "      <td>...</td>\n",
       "      <td>...</td>\n",
       "    </tr>\n",
       "    <tr>\n",
       "      <th>11</th>\n",
       "      <td>../data/sec_POL/Gazeta Wybrocza/Factiva-202308...</td>\n",
       "      <td>\\n\\n\\nZałożyciel Kościoła Shincheonji przepra...</td>\n",
       "      <td>Przedstawiciel \"chamskiej hołoty\": Kaczyński n...</td>\n",
       "    </tr>\n",
       "    <tr>\n",
       "      <th>11</th>\n",
       "      <td>../data/sec_POL/Gazeta Wybrocza/Factiva-202308...</td>\n",
       "      <td>\\n\\n\\nZałożyciel Kościoła Shincheonji przepra...</td>\n",
       "      <td>Cztery nowe ogniska koronawirusa na Podkarpaci...</td>\n",
       "    </tr>\n",
       "    <tr>\n",
       "      <th>11</th>\n",
       "      <td>../data/sec_POL/Gazeta Wybrocza/Factiva-202308...</td>\n",
       "      <td>\\n\\n\\nZałożyciel Kościoła Shincheonji przepra...</td>\n",
       "      <td>Koronawirus. Dwaj księża z Grabówki w kwaranta...</td>\n",
       "    </tr>\n",
       "    <tr>\n",
       "      <th>11</th>\n",
       "      <td>../data/sec_POL/Gazeta Wybrocza/Factiva-202308...</td>\n",
       "      <td>\\n\\n\\nZałożyciel Kościoła Shincheonji przepra...</td>\n",
       "      <td>Sanepid robi testy na koronawirusa po procesji...</td>\n",
       "    </tr>\n",
       "    <tr>\n",
       "      <th>11</th>\n",
       "      <td>../data/sec_POL/Gazeta Wybrocza/Factiva-202308...</td>\n",
       "      <td>\\n\\n\\nZałożyciel Kościoła Shincheonji przepra...</td>\n",
       "      <td>LGBT+. \"W tym plusie hołdują pedofilom. Ksiądz...</td>\n",
       "    </tr>\n",
       "  </tbody>\n",
       "</table>\n",
       "<p>876 rows × 3 columns</p>\n",
       "</div>"
      ],
      "text/plain": [
       "                                               f_name  \\\n",
       "0           ../data/sec_POL/Fakt/Factiva-20230808-125   \n",
       "1   ../data/sec_POL/Rzeczpospolita/Factiva-2023080...   \n",
       "1   ../data/sec_POL/Rzeczpospolita/Factiva-2023080...   \n",
       "1   ../data/sec_POL/Rzeczpospolita/Factiva-2023080...   \n",
       "1   ../data/sec_POL/Rzeczpospolita/Factiva-2023080...   \n",
       "..                                                ...   \n",
       "11  ../data/sec_POL/Gazeta Wybrocza/Factiva-202308...   \n",
       "11  ../data/sec_POL/Gazeta Wybrocza/Factiva-202308...   \n",
       "11  ../data/sec_POL/Gazeta Wybrocza/Factiva-202308...   \n",
       "11  ../data/sec_POL/Gazeta Wybrocza/Factiva-202308...   \n",
       "11  ../data/sec_POL/Gazeta Wybrocza/Factiva-202308...   \n",
       "\n",
       "                                              raw_txt  \\\n",
       "0    \\nKsiądz Janusz Koplewski (59 l.): Odwagi! Wi...   \n",
       "1    \\n\\n\\nKraj bez Boga\\n\\n523 Wörter\\n8 Januar 2...   \n",
       "1    \\n\\n\\nKraj bez Boga\\n\\n523 Wörter\\n8 Januar 2...   \n",
       "1    \\n\\n\\nKraj bez Boga\\n\\n523 Wörter\\n8 Januar 2...   \n",
       "1    \\n\\n\\nKraj bez Boga\\n\\n523 Wörter\\n8 Januar 2...   \n",
       "..                                                ...   \n",
       "11   \\n\\n\\nZałożyciel Kościoła Shincheonji przepra...   \n",
       "11   \\n\\n\\nZałożyciel Kościoła Shincheonji przepra...   \n",
       "11   \\n\\n\\nZałożyciel Kościoła Shincheonji przepra...   \n",
       "11   \\n\\n\\nZałożyciel Kościoła Shincheonji przepra...   \n",
       "11   \\n\\n\\nZałożyciel Kościoła Shincheonji przepra...   \n",
       "\n",
       "                                            raw_txt_l  \n",
       "0    \\nKsiądz Janusz Koplewski (59 l.): Odwagi! Wi...  \n",
       "1    \\n\\n\\nKraj bez Boga\\n\\n523 Wörter\\n8 Januar 2...  \n",
       "1   Jaka Polska po rządach PiS?\\n\\n861 Wörter\\n12 ...  \n",
       "1   Watykan, Rosja, Chiny. W co naprawdę gra Franc...  \n",
       "1   Górski & Cieślik: Dokąd jechać, dokąd nie i dl...  \n",
       "..                                                ...  \n",
       "11  Przedstawiciel \"chamskiej hołoty\": Kaczyński n...  \n",
       "11  Cztery nowe ogniska koronawirusa na Podkarpaci...  \n",
       "11  Koronawirus. Dwaj księża z Grabówki w kwaranta...  \n",
       "11  Sanepid robi testy na koronawirusa po procesji...  \n",
       "11  LGBT+. \"W tym plusie hołdują pedofilom. Ksiądz...  \n",
       "\n",
       "[876 rows x 3 columns]"
      ]
     },
     "execution_count": 22,
     "metadata": {},
     "output_type": "execute_result"
    }
   ],
   "source": [
    "df"
   ]
  },
  {
   "cell_type": "markdown",
   "metadata": {},
   "source": [
    "## text cleaning"
   ]
  },
  {
   "cell_type": "code",
   "execution_count": 23,
   "metadata": {},
   "outputs": [],
   "source": [
    "def clean(text):\n",
    "    text = re.sub(\"http\\S+|www\\S+|fb.com\\S+|Sunday Life\\S+\", '', text)\n",
    "    text = ''.join([char for char in text if char not in '–!\"#$%&\\'()*+,-./:;<=>?@[\\\\]^_`{|}~“”·‘'])\n",
    "    text = re.sub('\\n',' ',text)\n",
    "    text = re.sub('‹|›|„','',text)\n",
    "    text = re.sub(r'\\b\\d+\\b\\s*$', '', text)\n",
    "    text = re.sub(r'\\b\\w*\\d+\\w*\\b', '', text)\n",
    "    text = re.sub(r'\\b\\d+\\b', '', text)\n",
    "    text = re.sub(r'\\s{2,}', ' ', text)\n",
    "    text = re.sub(r'•\\t', '', text)\n",
    "    return text.strip()"
   ]
  },
  {
   "cell_type": "code",
   "execution_count": 24,
   "metadata": {},
   "outputs": [],
   "source": [
    "df['cleaned_txt'] = df['raw_txt_l'].apply(clean)"
   ]
  },
  {
   "cell_type": "code",
   "execution_count": 25,
   "metadata": {},
   "outputs": [],
   "source": [
    "df['len_text'] = df['cleaned_txt'].apply(lambda x: len(x.split()))"
   ]
  },
  {
   "cell_type": "code",
   "execution_count": 26,
   "metadata": {},
   "outputs": [
    {
     "data": {
      "text/plain": [
       "count      876.000000\n",
       "mean      1272.804795\n",
       "std       1235.594816\n",
       "min          0.000000\n",
       "25%        538.000000\n",
       "50%        898.500000\n",
       "75%       1672.500000\n",
       "max      12144.000000\n",
       "Name: len_text, dtype: float64"
      ]
     },
     "execution_count": 26,
     "metadata": {},
     "output_type": "execute_result"
    }
   ],
   "source": [
    "# sprawdzam jak długi jest tekst i czy czegoś nie ucięło, wyrywkowo\n",
    "df['len_text'].describe()"
   ]
  },
  {
   "cell_type": "code",
   "execution_count": 27,
   "metadata": {},
   "outputs": [],
   "source": [
    "df=df[df['len_text']>300]"
   ]
  },
  {
   "cell_type": "code",
   "execution_count": 28,
   "metadata": {},
   "outputs": [
    {
     "name": "stderr",
     "output_type": "stream",
     "text": [
      "/var/folders/7q/c3c06q9s7m552ts_r68zhmz00000gn/T/ipykernel_7742/2084731100.py:3: SettingWithCopyWarning: \n",
      "A value is trying to be set on a copy of a slice from a DataFrame.\n",
      "Try using .loc[row_indexer,col_indexer] = value instead\n",
      "\n",
      "See the caveats in the documentation: https://pandas.pydata.org/pandas-docs/stable/user_guide/indexing.html#returning-a-view-versus-a-copy\n",
      "  df['cleaned_txt'] = df['cleaned_txt'].replace(di, regex=True)\n"
     ]
    }
   ],
   "source": [
    "di={'Polnisch':'','Copyright 2020. Ringier Axel Springer Polska':'','Fakt':'','FKTPO':'','©020, Agora. All rights reserved.':'','GAZWYB':'','Gazeta Wyborcza & Wyborcza.pl':'',\n",
    "   'Rzeczpospolita':'','www.rp.pl':'','RZEPOL':''}\n",
    "df['cleaned_txt'] = df['cleaned_txt'].replace(di, regex=True)"
   ]
  },
  {
   "cell_type": "code",
   "execution_count": 29,
   "metadata": {},
   "outputs": [],
   "source": [
    "df=df.reset_index(drop=True)"
   ]
  },
  {
   "cell_type": "code",
   "execution_count": 30,
   "metadata": {},
   "outputs": [
    {
     "data": {
      "text/plain": [
       "'Ksiądz Janusz Koplewski l Odwagi Wirus to nie kara boska ROZMAWIAŁ DONAT SZYLLER Wörter März    Copyright Ringier Axel Springer Polska FAKT Część wiernych mówi o koronawirusie jako o karze boskiej Jak ksiądz uważa słusznie Ks Janusz Koplewski Oczywiście że nie Bóg jest miłością więc jak może nas karać On czuwa nad wszystkim i chce nas zbawić On umarł z miłości do nas więc jak może nas karać Jezus mówi nam przecież Odwagi Ja jestem nie bójcie się Jak w tych trudnych dniach powinien postępować człowiek wierzący Powinien zachować roztropność i higienę Stosować się do zaleceń służb państwowych myć dokładnie ręce unikać tłumów jeśli to możliwe ograniczyć wychodzenie z domu Jako chrześcijanin pamiętam o tym że mam i duszę i ciało więc o to ciało też muszę zadbać Jest przykazanie nie zabijaj więc nie mogę nieroztropnością doprowadzić do zabicia siebie Bardzo ważna jest też oczywiście sfera duchowa Powinien pokładać ufność w Bogu i nie ulegać strachowi Strach jest dziś w nas wszystkich jeśli nie o siebie to o bliskich Ale religijny człowiek powinien wierzyć Bogu Wierzyć że on nad tym czuwa Zła się nie ulęknę bo ty jesteś ze mną o tych słowach psalmu musimy pamiętać Powinniśmy śpiewać suplikacje Od powietrza głodu ognia i wojny wybaw nas Panie W tym znajdziemy pociechę Powinniśmy chodzić do kościoła Obowiązuje dyspensa i jeśli ktoś jest zagrożony może obejrzeć transmisję mszy świętej w telewizji lub wysłuchać w radiu To nie grzech zostać w domu Trzeba postępować roztropnie i można przyjąć komunię duchową I powtórzę nie bać się Dlaczego ta odwaga o której ksiądz mówi jest tak ważna Niewierzący różni się od wierzącego choćby tym że boi się o to co jest po śmierci Ja się nie lękam ja wiem że czeka mnie życie wieczne Mnie nie interesuje na co umrę na koronawirusa na grypę raka czy zginę w wypadku Na coś umrę na pewno I wtedy będę w niebie u Pana Jeśli jestem wierzący to się nie boję bo wiem że On czuwa O czym jeszcze wierzący powinni pamiętać O tym że jako chrześcijan obowiązuje nas przykazanie miłości Boga i bliźniego Pomagajmy więc sobie tak jak możemy Bądźmy ze sobą nawet na odległość za pomocą środków komunikacji telefonu internetu Bądźmy blisko mimo że np z powodu kwarantanny daleko Wspomagajmy też ubogich Dziś jałmużnę można dać na odległość za pomocą przelewu internetowego dla organizacji charytatywnej Wyciągnijmy też wnioski z tej sytuacji Poświęćmy czas na to by się zmienić Ze złego stać się dobrym z dobrego lepszym z lepszego doskonałym Niech nastąpi zmiana a zmiana postępowania i myślenia w teologii nazywa się nawróceniem Czy ksiądz poleci jakiś konkretny fragment Biblii na ten czas Choroba wywołana koronawirusem nazywa się Jeśli odwrócimy tę liczbę mamy Polecam więc odmawiać psalm Niedola nie przystąpi do ciebie a plaga się nie przybliży do twego namiotu bo swoim aniołom nakazał w twej sprawie aby cię strzegli na wszystkich twych drogach Duszpasterz gwiazd Ks Janusz Koplewski l zwany jest spowiednikiem gwiazd Pochodzi z Międzyzdrojów gdzie od lat odbywa się Festiwal Gwiazd i tam trafił do środowiska twórczego Dzięki pomocy ludzi kultury w r w kilka miesięcy postawił kościół w Warnowie Obecnie sprawuje posługę w Szczecinie Dokument Strona Tytulowa Ks Tadeusz IsakowiczZaleski w Fakcie Niektóre parafie nie mają na prąd Wörter Juni    Copyright Ringier Axel Springer Polska OPINIE Ludzie będą wspierać uczciwych księży mówił w programie Koronawirus Raport u ksiądz Tadeusz IsakowiczZaleski Pandemia to próba dla duchownych i wiernych Z KS TADEUSZEM ISAKOWICZEMZALESKIM rozmawia Beata Grabarek  Jak Kościół daje sobie radę w czasach pandemii Mieliśmy dużo obostrzeń dotyczących liczby wiernych którzy mogli uczestniczyć w mszach Ksiądz Tadeusz IsakowiczZaleski Pandemia uderzyła w całe społeczeństwo także w Kościół Jest to doświadczenie nieznane naszemu pokoleniu Trzeba się po prostu nauczyć jak dalej funkcjonować Papież Franciszek powiedział bardzo wyraźnie że Kościół musi na nowo zdefiniować pewne sprawy Oczywiście dogmaty się nie zmienią ale zmienią się zasady duszpasterskie i formy kontaktów wiernych z kapłanami Wyobraża sobie ksiądz że w przyszłości msze będą mogły się odbywać przez internet a wierni zamiast na tacę będą wysyłali ofiarę na konta Tego do końca sobie nie wyobrażam Jeśli ta pandemia się będzie przedłużać a jesienią będziemy mieli do czynienia z kolejną falą zachorowań a co za tym idzie ograniczeń trzeba będzie rzeczywiście wprowadzić takie nadzwyczajne środki Jednak myślę że wcześniej czy później wszystko wróci do normy Rozumiem ludzi którzy mimo zniesienia zakazu uczestnictwa w nabożeństwach jednak zostają w domu Bo niepokój pozostał Natomiast doświadczenie z internetem jest bardzo ciekawe To jest takie szczęście w nieszczęściu że Kościół powinien zdać sobie sprawę że coraz większa liczba osób zwłaszcza młodych poznaje rzeczywistość przez internet I jest to miejsce do ewangelizacji Nie trzeba się tego bać A co mówią ludzie którzy przychodzą do kościoła Czy oni się boją czy nie Ja akurat opiekuję się osobami niepełnosprawnymi w ramach Fundacji Brata Alberta Przede wszystkim jest ogromna niepewność w społeczeństwie Dotyczy to zarówno ludzi wierzących jak i niewierzących Ludzie nie wiedzą co będzie dalej obawiają się tej sytuacji Tworzą się też historie spiskowe Pierwszym zadaniem dla Kościoła powinno być obalanie tych nieprawdopodobnych teorii Jeśli chodzi o elementy pozytywne to ujawniła się solidarność międzyludzka Moje pokolenie pamięta to z czasów stanu wojennego ale młodsi tego nie doświadczyli Kolejnym zadaniem również dla Kościoła jest to co zaobserwowałem w ramach fundacji Coraz więcej ludzi ma problemy psychiczne Oni czekają na dobrą radę wsparcie duchowe czy nawet pomoc psychologiczną Porozmawiajmy o prozie życia Mniej wiernych na mszach to mniejsze datki na tacę Jak Kościół sobie z tym radzi Nie ma co ukrywać że jest to kryzys Moi koledzy księża zwłaszcza w małych parafiach mówią wprost że teraz nie są w stanie utrzymać kościoła zapłacić za prąd gaz czy ubezpieczenie Jeśli będzie trwało to kilka miesięcy można jeszcze próbować załatać te dziury ale znam przypadki że parafie rezygnują z inwestycji i pieniądze zebrane na remonty muszą przeznaczyć na opłacenie mediów To będzie test dla wiernych i księży czy ta solidarność wiernych z Kościołem istnieje Dużo zależy od postawy konkretnego duchownego Widzę już teraz wśród moich znajomych księży że ci którzy są otwarci na społeczeństwo są uczciwi nie mają się o co bać Ludzie będą ich wspierać Natomiast jeśli ktoś się barykaduje na plebanii może mieć ogromne kłopoty ISAKOWICZZALESKI Pandemia uderzyła w całe społeczeństwo także w Kościół Jest to doświadczenie nieznane naszemu pokoleniu Księża w małych parafiach nie są w stanie utrzymać kościoła zapłacić za prąd gaz czy ubezpieczenie Ksiądz IsakowiczZaleski Dokument OPINIE Kontrola zadłużenia zatrzymanie emigracji medyków nowe otwarcie w edukacji Przed rządem skrajnie niepopularne decyzje Wörter August    Copyright Ringier Axel Springer Polska Wybory prezydenckie odbywały się jeszcze de facto na zasadach świata sprzed pandemii Tematy kampanii pochodziły ze starej rzeczywistości Trzy i pół roku do kolejnego wyborczego plebiscytu to szansa by przenieść polityczną akcję na nowe boisko kształtowania świata po wydarzeniu które najpewniej odciśnie się piętnem na najbliższe dekady Jeśli będziemy nadal tkwić w starych sporach i anachronicznych sposobach myślenia możemy być pewni że nie tylko nie skorzystamy z reformatorskiej szansy jaką zawsze przynosi kryzys ale i odczujemy go w dłuższej perspektywie boleśniej niż ci którzy z trwającej globalnej pandemii szybko wyciągną wnioski Jakie są zatem najważniejsze wyzwania rządu Mateusza Morawieckiego Pierwszy to oczywiście podejście do gospodarki Doceniając rozmach programów pomocowych zgadzam się z moim kolegą z Klubu Jagiellońskiego Pawłem Musiałkiem który już na początku czerwca apelował byśmy jak najszybciej zaczęli przygotowywać się do poprawy sytuacji budżetowej po pandemii i opracowali plan redukcji zadłużenia publicznego jakie dziś jeszcze musi rosnąć w rekordowym tempie Zadbanie o jego relatywnie niski poziom po kryzysie może w dłuższej perspektywie zapewnić Polsce konkurencyjną przewagę która pozwoli nam pozostać zieloną wyspą w kolejnych dekadach Wymaga to rzecz jasna gdy tylko zaczniemy się z kryzysu otrząsać działań skrajnie niepopularnych podnoszenia podatków dla najbogatszych likwidacja arbitrażu progresja i podatki majątkowe podnoszenia wieku emerytalnego ograniczenia kolejnych świadczeń socjalnych Tylko taka polityka pozwoli nam na dalsze inwestycje prorozwojowe które w najbliższych latach mogą okazać się jeszcze bardziej opłacalne Dziś w świecie pozrywanych łańcuchów dostaw i prawdopodobnego odejścia Zachodu od gospodarczego uzależnienia od Chin inwestycje w nowe technologie naukę czy innowacje zdrowotne mogą budować gospodarczą przyszłość Polski w Unii Europejskiej W naszym żywotnym interesie a także w interesie całej Wspólnoty leży budowa mody na gospodarczy europatriotyzm Dla całej Europy to szansa na zapewnienie sobie bezpieczeństwa w przyszłości Dla nas dodatkowo szansa na potężny impuls rozwojowy wynikający z konkurencyjności naszej gospodarki oraz talentów polskich przedsiębiorców innowatorów i naukowców Drugi obszar to zrozumienie fundamentalnego problemu polskiego systemu ochrony zdrowia Nie są nim wbrew medialnym i partyjnym zaklęciom niskie płace ale struktura wiekowa pracowników służby zdrowia W początku pandemii słyszeliśmy jak na Zachodzie wzywa się do pracy lekarzy z emerytur W Polsce nie było takiej potrzeby bo… procent pracujących polskich lekarzy już wiek emerytalny osiągnęło Pracują tak długo jak pozwala im zdrowie Wraz z cywilizacyjnym wyzwaniem radykalnego starzenia się naszego społeczeństwa powinno nam to uświadomić co nas czeka Coraz większa rzesza starych ludzi będzie pod opieką coraz starszych pielęgniarek i lekarzy To dramatyczne ryzyko w czasie pokoju a w czasie medycznej wojny choćby z kolejną pandemią proszenie się o załamanie systemu ochrony zdrowia Priorytetem powinno być więc dziś z jednej strony spłaszczenie zarobków w ochronie zdrowia zwiększenie wynagrodzeń młodych lekarzy i przedstawicieli innych zawodów medycznych a z drugiej skuteczne zatamowanie emigracji absolwentów darmowych kierunków medycznych finansowanych przecież z pieniędzy publicznych Równolegle więc potrzebujemy zarówno odpłatności za kształcenie lekarzy lub zobowiązania do pracy w Polsce po ukończeniu studiów jak i podniesienia konkurencyjności krajowych ofert pracy dla młodych medyków Wreszcie edukacyjny lockdown pokazał nam że główną funkcją szkoły nie jest dziś kształcenie i wychowywanie ale… bycie przechowalnią dzieci którymi nie mają czasu zajmować się rodzice Choć z ust polityków ekspertów i działaczy społecznych nie schodzi zaklęcie najważniejsza jest edukacja nie mamy odwagi przyznać że szkolnictwo na dziewiętnastowieczną modłę straciło sens Tymczasem jak ponad dwa lata temu zwracał uwagę w książce Wyjście awaryjne Rafał Matyja rynek pracy w ogóle nie potrzebuje ludzi którzy uczą się aż dwanaście ba siedemnaście lub dwadzieścia lat Choć to nie tylko polski problem to próba zmierzenia się z nim mogłaby być jedną z najważniejszych lekcji koronawirusowego szoku Te i wszelkie kolejne choćby ekologiczne czy geopolityczne wyzwania przed którymi stoimy wymagają jednego Budowy ponadpartyjnego konsensu chociaż w tym zakresie że zajmujemy się i spieramy o to co naprawdę ważne Dziś politycy podbijają sobie słupki poparcia wskaźniki rozpoznawalności i wyniki oglądalności w mediach społecznościowych naparzanką w tematach wygodnych dla nich ale drugorzędnych z punktu widzenia przyszłości Polski Moje środowisko od lat wzywa do obniżenia temperatury międzyplemiennych konfliktów i politycznej polaryzacji Droga do tego prowadzi nie przez fikcyjną aklamację narodowej zgody ale właśnie przez przeniesienie debaty na te pola gdzie możemy wspólnie szukać rozwiązań służących pomyślności kolejnych pokoleń Każdy z nas z własnego życia wie doskonale jak łatwo pokłócić się o gejów aborcję Kościół Tu się nie zgodzimy bo różnimy się fundamentalnie Trudno jednak nienawidzić kogoś za to że chce sprawiedliwszych podatków Europy strategicznie uniezależnionej od technologii azjatyckich odmłodzenia struktury pracowników ochrony zdrowia albo szkoły adekwatnej do wyzwań XXI wieku POLSKA Najważniejsze wyzwania TRUDNOWSKI Wymagane będą działania niepopularne podnoszenie podatków wieku emerytalnego czy ograniczenia świadczeń socjalnych Piotr Trudnowski prezes Klubu Jagiellońskiego Dokument Strona Tytulowa Terlikowski Musimy więcej rozmawiać o samotności Wörter Oktober    Copyright Ringier Axel Springer Polska Rodzina daje bezpieczeństwo Musimy rozmawiać o coraz powszechniejszym zjawisku samotności pisze dla u publicysta OPINIE Tomasz P Terlikowski publicysta pisarz współpracownik Telewizji Republika i Polskiego Radia TERLIKOWSKI Trzeba zadać pytanie skąd bierze się pogłębiające się zjawisko samotności i jak Kościół może mu zaradzić Niedawno arcybiskup Marek Jędraszewski zdiagnozował nową ideologię toczącą społeczeństwo kolejna grupa poczuła się urażona i znowu trwa awantura A szkoda bo tak się składa że temat który w niefortunny sposób poruszył arcybiskup jest rzeczywiście ważny Zostawmy na razie sformułowanie ideologia singli którego użył arcybiskup Ono niewiele wyjaśnia wprowadza zamęt pojęciowy a do tego rzeczywiście może być interpretowane jako swego rodzaju atak na singli Zostańmy za to przy zjawisku które jak sądzę miał na myśli arcybiskup a które rzeczywiście jest zarówno społecznym jak i kościelnym problemem Otóż tak się składa że jest faktem iż młodzi ludzie coraz rzadziej zawierają małżeństwa zarówno cywilne jak i kościelne związki także te nieformalne są coraz mniej trwałe a pierwsze dzieci pojawiają się coraz później Niedojrzałość emocjonalna części ludzi jest tak duża że nie są oni w stanie zdecydować się ani na małżeństwo ani na rodzicielstwo ani na życie zakonne czy kapłańskie A nawet jeśli się na nie decydują to nie są w stanie wytrwać w zobowiązaniu Psycholodzy alarmują także że coraz luźniejsze stają się relacje międzyludzkie że coraz mniej wagi do nich przywiązujemy i że pandemia jedynie ujawniła i pogłębiła pandemię samotności To wszystko są fakty a nie podejrzenia czy insynuacje Ich przyczyny są rozmaite i raczej nie szukałbym ich w ideologii singlizmu Jeśli już to w pogłębiającym się indywidualizmie który ma tendencje do przeradzania się w egocentryzm w niestety dopadającej wszystkie środowiska także katolickie pandemii niedojrzałości szczególnie mężczyzn na czym cierpią kobiety które częściej niż mężczyźni chcą tworzyć stabilne związki w okolicznościach ekonomicznych braku stabilności pracy która pochłania sporą część życia czy wreszcie w popkulturze promującej wzorce zachowań które utrudniają wytrwanie w związku Z naszego słownika znikły takie słowa jak ofiara a nie ma trwałego związku bez niej czy przebaczenie a ze ściśle wypełnionych kalendarzy wypadł czas na dialog i rozmowę z najbliższymi Efekt Coraz więcej ludzi którzy nie chcą i jeszcze więcej takich którzy nie potrafią albo nie mają z kim stworzyć stałego stabilnego związku I dotyczy to w takim samym stopniu młodych katolików jak i prawicowców lewicowców czy ludzi całkowicie obojętnych na politykę Z perspektywy Kościoła ale i społeczeństwa a także jednostek to nie jest dobre zjawisko Idealne rodziny nie istnieją ale nawet ta nieidealna daje poczucie bezpieczeństwa zakorzenienia odpoczynku chroni przed samotnością i jeśli nad nią pracujemy zmniejsza prawdopodobieństwo depresji i innych problemów I właśnie dlatego trzeba zadawać sobie pytanie skąd bierze się pogłębiające się zjawisko samotności Dlaczego do niego dochodzi Arcybiskup Jędraszewski w nieszczególnie szczęśliwy sposób zwrócił uwagę na to pytanie I nawet jeśli nie podoba nam się forma w jakiej to zrobił to warto rozmawiać o problemie Z naszego słownika znikły takie słowa jak ofiara a nie ma trwałego związku bez niej przebaczenie wypadł czas na rozmowę z najbliższymi Dokument KORONAWIRUS W POLSCE Poseł Lewicy chce by Kościół wsparł walkę z pandemią JOSIE Wörter Dezember    Copyright Ringier Axel Springer Polska Poseł Lewicy Maciej Kopiec l napisał list do hierarchów kościelnych w którym wzywa Kościół do przekazania milionów złotych na walkę z pandemią Pismo ma trafić również do papieża Franciszka l Kwota ta jest adekwatna do skali i stanu posiadania Kościół katolicki to jedna z najbogatszych instytucji w Polsce pragnę wskazać iż fundacja pani Dominiki Kulczyk l przekazała wiosną tego roku wsparcie warte milionów złotych zaznaczył polityk Dokument POLITYKA OPINIE Kościół potrzebuje odnowy Wörter März    Copyright Ringier Axel Springer Polska Rok pandemii to w Kościele czas zagubienia braku debaty nad tym co powinno a nawet musi się zmienić Pandemia koronawirusa przyspieszyła proces laicyzacji i dechrystianizacji Liczba wiernych w kościołach spadła wyraźnie młodzi w zasadzie odpłynęli już od Kościoła a liczba powołań i zakonnych i kapłańskich spada systematycznie Jeśli do tego dodać kolejne ujawniane skandale seksualne na które Kościół hierarchiczny nie jest w stanie odpowiedzieć a także rosnące problemy z utrzymaniem parafii na co wpływ ma oczywiście sytuacja pandemiczna to obraz stanie się w miarę pełny Choć nie wszystkie te zjawiska mają u podstaw pandemię to w przypadku wszystkich właśnie koronawirus stał się zapalnikiem je ujawniającym Można powiedzieć że Kościół w Polsce cierpi ze względu na koronawirusa ale… istotne znaczenie dla wielu zjawisk mają wcześniejsze choroby towarzyszące To właśnie one brak pomysłu na katechezę ignorowanie błyskawicznej laicyzacji za bliska współpraca z władzą są przyczyną pogłębiającego się kryzysu Najgroźniejsze jednak jest zupełnie co innego nie widać planu poważnej debaty nad przyszłością nad nowymi modelami duszpasterstwa nad dotarciem do tych którzy odpadli z różnych przyczyn I chociaż w pierwszych tygodniach nastąpił wysyp internetowych inicjatyw to dobrze większość z nich miała charakter jedynie przejściowy uzupełniający nie udało się natomiast zbudować nic bardziej trwałego Wyraźnie nie ma też pomysłu na młodzież czy na średnie pokolenie które z Kościoła odpływają najszybciej Jedynym pomysłem jaki widać jest powrót do tego co było Tyle że tego już nie ma Restrykcje zostaną z nami jeszcze przez jakiś czas a nawet gdy zostaną zniesione to i tak wielu do Kościoła nie wróci Jeśli więc chce się do nich dotrzeć trzeba szukać zupełnie nowych metod duszpasterskich Wyjściem z tej sytuacji mógłby być synod Kościoła w Polsce wielka debata nad przyszłością polskiego katolicyzmu ale i w tej sprawie nie mam wielkich nadziei Część starszego pokolenia biskupów jest zainteresowana głównie doczekaniem do emerytury i uniknięciem większych skandali młodsi na razie dopiero ogarniają swoje diecezje a księża często wolą się nie wychylać żeby nie oberwać od przełożonych I to także nie jest nic nowego ale pandemia ujawniła to jeszcze mocniej Kościół w Polsce cierpi ze względu na koronawirusa ale istotne znaczenie mają wcześniejsze choroby towarzyszące Cały tekst na pl Tomasz P Terlikowski publicysta pisarz współpracownik Polskiego Radia i Telewizji Republika Dokument Zusammenfassung der Suche TextKościół or Jehowy or prawosławie and covid or pandemia bis Quelle Poland Oder  Poland Polish Language AutorAlle Autoren UnternehmenAlle Unternehmen ThemaAlle Themen BrancheAlle Branchen RegionAlle Regionen SpracheAlle Sprachen Gefundene August'"
      ]
     },
     "execution_count": 30,
     "metadata": {},
     "output_type": "execute_result"
    }
   ],
   "source": [
    "df['cleaned_txt'][0]"
   ]
  },
  {
   "cell_type": "code",
   "execution_count": 36,
   "metadata": {},
   "outputs": [],
   "source": [
    "possible_words = ['pandemia', 'COVID', 'covid','COVID-19','covid-19','wirus','Wirus','Pandemia','pandemii']\n",
    "\n",
    "df = df[df['cleaned_txt'].str.contains('|'.join(possible_words))]"
   ]
  },
  {
   "cell_type": "code",
   "execution_count": 37,
   "metadata": {},
   "outputs": [],
   "source": [
    "df=df[['f_name','cleaned_txt']]"
   ]
  },
  {
   "cell_type": "code",
   "execution_count": 39,
   "metadata": {},
   "outputs": [],
   "source": [
    "df.to_csv('../data/clean/sec_pol_clean.csv')"
   ]
  },
  {
   "cell_type": "code",
   "execution_count": 38,
   "metadata": {},
   "outputs": [
    {
     "data": {
      "text/html": [
       "<div>\n",
       "<style scoped>\n",
       "    .dataframe tbody tr th:only-of-type {\n",
       "        vertical-align: middle;\n",
       "    }\n",
       "\n",
       "    .dataframe tbody tr th {\n",
       "        vertical-align: top;\n",
       "    }\n",
       "\n",
       "    .dataframe thead th {\n",
       "        text-align: right;\n",
       "    }\n",
       "</style>\n",
       "<table border=\"1\" class=\"dataframe\">\n",
       "  <thead>\n",
       "    <tr style=\"text-align: right;\">\n",
       "      <th></th>\n",
       "      <th>f_name</th>\n",
       "      <th>cleaned_txt</th>\n",
       "    </tr>\n",
       "  </thead>\n",
       "  <tbody>\n",
       "    <tr>\n",
       "      <th>0</th>\n",
       "      <td>../data/sec_POL/Fakt/Factiva-20230808-125</td>\n",
       "      <td>Ksiądz Janusz Koplewski l Odwagi Wirus to nie ...</td>\n",
       "    </tr>\n",
       "    <tr>\n",
       "      <th>1</th>\n",
       "      <td>../data/sec_POL/Rzeczpospolita/Factiva-2023080...</td>\n",
       "      <td>Kraj bez Boga Wörter Januar    © Copyright  Al...</td>\n",
       "    </tr>\n",
       "    <tr>\n",
       "      <th>2</th>\n",
       "      <td>../data/sec_POL/Rzeczpospolita/Factiva-2023080...</td>\n",
       "      <td>Jaka Polska po rządach PiS Wörter Januar    © ...</td>\n",
       "    </tr>\n",
       "    <tr>\n",
       "      <th>3</th>\n",
       "      <td>../data/sec_POL/Rzeczpospolita/Factiva-2023080...</td>\n",
       "      <td>Watykan Rosja Chiny W co naprawdę gra Francisz...</td>\n",
       "    </tr>\n",
       "    <tr>\n",
       "      <th>4</th>\n",
       "      <td>../data/sec_POL/Rzeczpospolita/Factiva-2023080...</td>\n",
       "      <td>Górski Cieślik Dokąd jechać dokąd nie i dlacze...</td>\n",
       "    </tr>\n",
       "    <tr>\n",
       "      <th>...</th>\n",
       "      <td>...</td>\n",
       "      <td>...</td>\n",
       "    </tr>\n",
       "    <tr>\n",
       "      <th>813</th>\n",
       "      <td>../data/sec_POL/Gazeta Wybrocza/Factiva-202308...</td>\n",
       "      <td>Katolicy w tłumie modlą się o wygaszenie pande...</td>\n",
       "    </tr>\n",
       "    <tr>\n",
       "      <th>814</th>\n",
       "      <td>../data/sec_POL/Gazeta Wybrocza/Factiva-202308...</td>\n",
       "      <td>Robert Biedroń Jestem jedynym kandydatem zmian...</td>\n",
       "    </tr>\n",
       "    <tr>\n",
       "      <th>816</th>\n",
       "      <td>../data/sec_POL/Gazeta Wybrocza/Factiva-202308...</td>\n",
       "      <td>Cztery nowe ogniska koronawirusa na Podkarpaci...</td>\n",
       "    </tr>\n",
       "    <tr>\n",
       "      <th>817</th>\n",
       "      <td>../data/sec_POL/Gazeta Wybrocza/Factiva-202308...</td>\n",
       "      <td>Koronawirus Dwaj księża z Grabówki w kwarantan...</td>\n",
       "    </tr>\n",
       "    <tr>\n",
       "      <th>818</th>\n",
       "      <td>../data/sec_POL/Gazeta Wybrocza/Factiva-202308...</td>\n",
       "      <td>LGBT W tym plusie hołdują pedofilom Ksiądz tak...</td>\n",
       "    </tr>\n",
       "  </tbody>\n",
       "</table>\n",
       "<p>714 rows × 2 columns</p>\n",
       "</div>"
      ],
      "text/plain": [
       "                                                f_name  \\\n",
       "0            ../data/sec_POL/Fakt/Factiva-20230808-125   \n",
       "1    ../data/sec_POL/Rzeczpospolita/Factiva-2023080...   \n",
       "2    ../data/sec_POL/Rzeczpospolita/Factiva-2023080...   \n",
       "3    ../data/sec_POL/Rzeczpospolita/Factiva-2023080...   \n",
       "4    ../data/sec_POL/Rzeczpospolita/Factiva-2023080...   \n",
       "..                                                 ...   \n",
       "813  ../data/sec_POL/Gazeta Wybrocza/Factiva-202308...   \n",
       "814  ../data/sec_POL/Gazeta Wybrocza/Factiva-202308...   \n",
       "816  ../data/sec_POL/Gazeta Wybrocza/Factiva-202308...   \n",
       "817  ../data/sec_POL/Gazeta Wybrocza/Factiva-202308...   \n",
       "818  ../data/sec_POL/Gazeta Wybrocza/Factiva-202308...   \n",
       "\n",
       "                                           cleaned_txt  \n",
       "0    Ksiądz Janusz Koplewski l Odwagi Wirus to nie ...  \n",
       "1    Kraj bez Boga Wörter Januar    © Copyright  Al...  \n",
       "2    Jaka Polska po rządach PiS Wörter Januar    © ...  \n",
       "3    Watykan Rosja Chiny W co naprawdę gra Francisz...  \n",
       "4    Górski Cieślik Dokąd jechać dokąd nie i dlacze...  \n",
       "..                                                 ...  \n",
       "813  Katolicy w tłumie modlą się o wygaszenie pande...  \n",
       "814  Robert Biedroń Jestem jedynym kandydatem zmian...  \n",
       "816  Cztery nowe ogniska koronawirusa na Podkarpaci...  \n",
       "817  Koronawirus Dwaj księża z Grabówki w kwarantan...  \n",
       "818  LGBT W tym plusie hołdują pedofilom Ksiądz tak...  \n",
       "\n",
       "[714 rows x 2 columns]"
      ]
     },
     "execution_count": 38,
     "metadata": {},
     "output_type": "execute_result"
    }
   ],
   "source": [
    "df"
   ]
  },
  {
   "cell_type": "code",
   "execution_count": null,
   "metadata": {},
   "outputs": [],
   "source": []
  }
 ],
 "metadata": {
  "kernelspec": {
   "display_name": "Python 3 (ipykernel)",
   "language": "python",
   "name": "python3"
  },
  "language_info": {
   "codemirror_mode": {
    "name": "ipython",
    "version": 3
   },
   "file_extension": ".py",
   "mimetype": "text/x-python",
   "name": "python",
   "nbconvert_exporter": "python",
   "pygments_lexer": "ipython3",
   "version": "3.11.5"
  }
 },
 "nbformat": 4,
 "nbformat_minor": 4
}
